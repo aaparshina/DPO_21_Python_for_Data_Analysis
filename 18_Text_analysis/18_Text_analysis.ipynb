{
 "cells": [
  {
   "cell_type": "markdown",
   "id": "d1fc18bf",
   "metadata": {},
   "source": [
    "# Python для анализа данных\n",
    "\n",
    "*Ян Пиле, НИУ ВШЭ*"
   ]
  },
  {
   "cell_type": "code",
   "execution_count": null,
   "id": "67bae5da",
   "metadata": {},
   "outputs": [],
   "source": [
    "!pip install -U textblob\n",
    "!python -m textblob.download_corpora"
   ]
  },
  {
   "cell_type": "markdown",
   "id": "7b490df0",
   "metadata": {},
   "source": [
    "## Токенизация\n",
    "\n",
    "Под токенизацией понимается разбиение большого абзаца на предложения или слова. Обычно токен – слово в текстовом документе. Токенизация с помощью TextBlob – довольно простая штука. Все, что вам нужно сделать, это импортировать объект TextBlob из библиотеки textblob, передать ему документ, который вы хотите разбить на токены и готово :). Давайте посмотрим на это в действии:"
   ]
  },
  {
   "cell_type": "code",
   "execution_count": null,
   "id": "3181bbe9",
   "metadata": {},
   "outputs": [],
   "source": [
    "from textblob import TextBlob"
   ]
  },
  {
   "cell_type": "code",
   "execution_count": null,
   "id": "db9395a6",
   "metadata": {},
   "outputs": [],
   "source": [
    "document = (\"THIS is the saddest story I have ever heard. We had known the Ashburnhams \\\n",
    "            for nine seasons of the town of Nauheim with an extreme intimacy—or, rather with an\\\n",
    "            acquaintanceship as loose and easy and yet as close as a good glove's with your hand. \\\n",
    "            My wife and I knew Captain and Mrs Ashburnham as well as it was possible to know anybody, \\\n",
    "            and yet, in another sense, we knew nothing at all about them. This is, I believe, a state of \\\n",
    "            things only possible with English people of whom, till today, when I sit down to puzzle out \\\n",
    "            what I know of this sad affair, I knew nothing whatever. Six months ago I had never been to England,\\\n",
    "            and, certainly, I had never sounded the depths of an English heart. I had known the shallows.\") "
   ]
  },
  {
   "cell_type": "code",
   "execution_count": null,
   "id": "21974d73",
   "metadata": {},
   "outputs": [],
   "source": []
  },
  {
   "cell_type": "markdown",
   "id": "a16a953d",
   "metadata": {},
   "source": [
    "**Лемматизация**\n",
    "\n",
    "Лемматизация – приведение слова к форме, в которой оно записано в словаре.\n",
    "\n",
    "Чтобы выполнить лемматизацию с помощью TextBlob, вы должны использовать объект Word из библиотеки textblob, передать ему слово, которое вы хотите лемматизировать, а затем вызвать метод lemmatize."
   ]
  },
  {
   "cell_type": "code",
   "execution_count": null,
   "id": "79012b3b",
   "metadata": {},
   "outputs": [],
   "source": []
  },
  {
   "cell_type": "markdown",
   "id": "8709018b",
   "metadata": {},
   "source": [
    "## Анализ частей речи aka Parts of Speech (POS) Tagging\n",
    "\n",
    "Cокращения смотреть [тут](https://www.ling.upenn.edu/courses/Fall_2003/ling001/penn_treebank_pos.html)"
   ]
  },
  {
   "cell_type": "code",
   "execution_count": null,
   "id": "5ce06c18",
   "metadata": {},
   "outputs": [],
   "source": []
  },
  {
   "cell_type": "code",
   "execution_count": null,
   "id": "dba2629e",
   "metadata": {},
   "outputs": [],
   "source": []
  },
  {
   "cell_type": "markdown",
   "id": "3c11126a",
   "metadata": {},
   "source": [
    "## Преобразование текста в единственном и множественном числе\n",
    "\n",
    "TextBlob также позволяет вам преобразовывать слова текста во множественное или единственное число, используя методы pluralize и singularize, соответственно. Пример:"
   ]
  },
  {
   "cell_type": "code",
   "execution_count": null,
   "id": "5a452464",
   "metadata": {},
   "outputs": [],
   "source": [
    "text = (\"Football is a good game. It has many health benefits\")"
   ]
  },
  {
   "cell_type": "code",
   "execution_count": null,
   "id": "8276b9ce",
   "metadata": {},
   "outputs": [],
   "source": []
  },
  {
   "cell_type": "markdown",
   "id": "a0b8a971",
   "metadata": {},
   "source": [
    "## Подсчет количества слов и фраз"
   ]
  },
  {
   "cell_type": "code",
   "execution_count": null,
   "id": "089d0a48",
   "metadata": {},
   "outputs": [],
   "source": []
  },
  {
   "cell_type": "code",
   "execution_count": null,
   "id": "6a32ea01",
   "metadata": {},
   "outputs": [],
   "source": []
  },
  {
   "cell_type": "markdown",
   "id": "7b358d25",
   "metadata": {},
   "source": [
    "## Поиск N-грамм\n",
    "\n",
    "N-граммы – комбинации n рядом стоящих слов в предложении. Например, для предложения «Я люблю смотреть футбол» биграммы будут такие:\n",
    "\n",
    "(я люблю), (люблю смотреть) и (смотреть футбол). N-граммы часто играют решающую роль при классификации текстов."
   ]
  },
  {
   "cell_type": "code",
   "execution_count": null,
   "id": "6446a483",
   "metadata": {},
   "outputs": [],
   "source": []
  },
  {
   "cell_type": "code",
   "execution_count": null,
   "id": "ef187712",
   "metadata": {},
   "outputs": [],
   "source": []
  },
  {
   "cell_type": "markdown",
   "id": "4eab982f",
   "metadata": {},
   "source": [
    "## Исправление орфографии\n",
    "\n",
    "Корректировка орфографии является одной из уникальных функций библиотеки TextBlob. С помощью соответствующего метода объекта TextBlob вы можете исправить все орфографические ошибки в вашем тексте. Пример:"
   ]
  },
  {
   "cell_type": "code",
   "execution_count": null,
   "id": "d0f7700b",
   "metadata": {},
   "outputs": [],
   "source": []
  },
  {
   "cell_type": "code",
   "execution_count": null,
   "id": "cc3ae388",
   "metadata": {},
   "outputs": [],
   "source": []
  },
  {
   "cell_type": "markdown",
   "id": "7de91f8d",
   "metadata": {},
   "source": [
    "## Анализ тональности\n",
    "\n",
    "В этом разделе мы проанализируем мнение общественности о различных продуктах, купленных через Amazon. \n",
    "\n",
    "Набор данных можно скачать по этой [ссылке](https://www.kaggle.com/sdxingaijing/topic-model-lda-algorithm/data) .\n",
    "\n"
   ]
  },
  {
   "cell_type": "code",
   "execution_count": null,
   "id": "42c0626b",
   "metadata": {},
   "outputs": [],
   "source": [
    "import pandas as pd\n",
    "\n",
    "reviews_datasets = pd.read_csv('Reviews.csv')\n",
    "reviews_datasets = reviews_datasets.head(20000)"
   ]
  },
  {
   "cell_type": "code",
   "execution_count": null,
   "id": "915d1753",
   "metadata": {},
   "outputs": [],
   "source": []
  },
  {
   "cell_type": "code",
   "execution_count": null,
   "id": "fb10eb2b",
   "metadata": {},
   "outputs": [],
   "source": []
  },
  {
   "cell_type": "code",
   "execution_count": null,
   "id": "f8ee5a1e",
   "metadata": {},
   "outputs": [],
   "source": [
    "import seaborn as sns\n",
    "import matplotlib.pyplot as plt\n",
    "%matplotlib inline"
   ]
  },
  {
   "cell_type": "code",
   "execution_count": null,
   "id": "2bca8394",
   "metadata": {},
   "outputs": [],
   "source": []
  },
  {
   "cell_type": "markdown",
   "id": "e9610b02",
   "metadata": {},
   "source": [
    "## Разведывательный анализ данных с помощью описательный статистик и визуализаций. Особенности исследования текста."
   ]
  },
  {
   "cell_type": "markdown",
   "id": "793e09cf",
   "metadata": {},
   "source": [
    "Мы разобрались с тем, как визуализации и построение описательных статистик могут иллюстрировать некие особенности, содержащиеся в данных. Давайте попробуем проанализировать реальную задачу с сайта соревнований kaggle , чтобы почувствовать себя совсем уверенно :)\n",
    "\n",
    "В этот раз мы будем анализировать данные об отзывах на женскую одежду\n",
    "\n",
    "https://www.kaggle.com/nicapotato/womens-ecommerce-clothing-reviews"
   ]
  },
  {
   "cell_type": "code",
   "execution_count": null,
   "id": "bd0e71a8",
   "metadata": {},
   "outputs": [],
   "source": [
    "df = pd.read_csv('Womens_Reviews.csv')"
   ]
  },
  {
   "cell_type": "code",
   "execution_count": null,
   "id": "978b9d36",
   "metadata": {},
   "outputs": [],
   "source": []
  },
  {
   "cell_type": "markdown",
   "id": "6ce6551a",
   "metadata": {},
   "source": [
    "## Стемминг (Stemming) \n",
    "Процесс стемминга заключается в преобразовании различных вариантов одного и того же слова в одну ядерную форму. Например у нас есть слова \"running\", \"runs\" и \"run\", которые семантически говорят об одном и том же, поэтому мы можем вместо них использовать одно слово \"run\". Стоит отметить, что в этом случае мы можем потерять некоторые грамматические признаки, например форму времени.\n",
    "\n",
    "Воспользуемся алгоритмом Портера из модуля NLTK. Посмотрим на работу алгоритма на примере с вариантами слов run"
   ]
  },
  {
   "cell_type": "code",
   "execution_count": 1,
   "id": "7fd4e666",
   "metadata": {},
   "outputs": [],
   "source": [
    "import nltk"
   ]
  },
  {
   "cell_type": "code",
   "execution_count": null,
   "id": "456e7f8c",
   "metadata": {},
   "outputs": [],
   "source": []
  },
  {
   "cell_type": "code",
   "execution_count": null,
   "id": "cb703171",
   "metadata": {},
   "outputs": [],
   "source": []
  },
  {
   "cell_type": "code",
   "execution_count": 3,
   "id": "d7085646",
   "metadata": {},
   "outputs": [],
   "source": [
    "from nltk.stem.snowball import RussianStemmer\n"
   ]
  },
  {
   "cell_type": "code",
   "execution_count": null,
   "id": "94f75a89",
   "metadata": {},
   "outputs": [],
   "source": []
  },
  {
   "cell_type": "code",
   "execution_count": null,
   "id": "3b40095b",
   "metadata": {},
   "outputs": [],
   "source": [
    "!pip install pymorphy2"
   ]
  },
  {
   "cell_type": "code",
   "execution_count": 6,
   "id": "7bfd6faa",
   "metadata": {},
   "outputs": [],
   "source": [
    "import pymorphy2"
   ]
  },
  {
   "cell_type": "code",
   "execution_count": null,
   "id": "97258140",
   "metadata": {},
   "outputs": [],
   "source": []
  }
 ],
 "metadata": {
  "kernelspec": {
   "display_name": "Python 3 (ipykernel)",
   "language": "python",
   "name": "python3"
  },
  "language_info": {
   "codemirror_mode": {
    "name": "ipython",
    "version": 3
   },
   "file_extension": ".py",
   "mimetype": "text/x-python",
   "name": "python",
   "nbconvert_exporter": "python",
   "pygments_lexer": "ipython3",
   "version": "3.9.7"
  }
 },
 "nbformat": 4,
 "nbformat_minor": 5
}

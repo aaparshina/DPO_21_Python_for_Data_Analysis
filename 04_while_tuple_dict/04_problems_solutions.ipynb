{
 "cells": [
  {
   "cell_type": "markdown",
   "metadata": {},
   "source": [
    "# Python для автоматизации и анализа данных\n",
    "\n",
    "## Занятие 4 — 02/11/2021\n",
    "\n",
    "*Материалы взяты из курсов Тамбовцевой Аллы «Основы программирования в Python» и Рогович Татьяны «Python для исследователей».*"
   ]
  },
  {
   "cell_type": "markdown",
   "metadata": {},
   "source": [
    "## Часть 1: цикл while\n"
   ]
  },
  {
   "cell_type": "markdown",
   "metadata": {},
   "source": [
    "### Задача 1\n",
    "Напишите программу, которая запрашивает у пользователя пароль, и далее:\n",
    "\n",
    "* если пароль верный, выводит на экран сообщение \"Login success\".\n",
    "* если пароль неверный, выводит на экран сообщение \"Incorrect password, try again!\" до тех пор, пока пользователь не введет верный пароль."
   ]
  },
  {
   "cell_type": "code",
   "execution_count": 180,
   "metadata": {},
   "outputs": [
    {
     "name": "stdout",
     "output_type": "stream",
     "text": [
      "Enter password.вапфыуц\n",
      "Incorrect password, try again!\n",
      "Enter password.hsepassword\n",
      "Login success.\n"
     ]
    }
   ],
   "source": [
    "password = \"hsepassword\"\n",
    "\n",
    "while True:\n",
    "    attempt = input(\"Enter password.\")\n",
    "    if attempt == password:\n",
    "        print(\"Login success.\")\n",
    "        break\n",
    "    else:\n",
    "        print(\"Incorrect password, try again!\")"
   ]
  },
  {
   "cell_type": "markdown",
   "metadata": {},
   "source": [
    "Или без `while True` и `break`:"
   ]
  },
  {
   "cell_type": "code",
   "execution_count": 181,
   "metadata": {},
   "outputs": [
    {
     "name": "stdout",
     "output_type": "stream",
     "text": [
      "Enter password: sace\n",
      "Enter password: xasdvcsv\n",
      "Enter password: 12ee32dq\n",
      "Enter password: hsepassword\n",
      "Login success.\n"
     ]
    }
   ],
   "source": [
    "password = \"hsepassword\"\n",
    "attempt = input(\"Enter password: \")\n",
    "\n",
    "while password != attempt:\n",
    "    attempt = input(\"Enter password: \")\n",
    "print(\"Login success.\")"
   ]
  },
  {
   "cell_type": "markdown",
   "metadata": {},
   "source": [
    "### Задача 2\n",
    "Рассмотрим пример задачи, которую можно решить с использованием break.\n",
    "\n",
    "Пусть студент сдал 5 предметов во время сессии и мы хотим узнать, есть ли у него пересдачи\n",
    "\n",
    "*Входные данные:*\n",
    "\n",
    "    До пяти оценок от 1 до 10\n",
    "\n",
    "*Выходные данные:*\n",
    "\n",
    "    Если хотя бы одна из оценок меньше 4, завершаем программу и печатаем 'YES' (пересдачи есть)\n",
    "    \n",
    "    Если все пять оценок больше 3, печатаем 'NO' (студент закрыл сессию без пересдач)"
   ]
  },
  {
   "cell_type": "code",
   "execution_count": null,
   "metadata": {},
   "outputs": [],
   "source": [
    "i = 1\n",
    "while i <= 5:\n",
    "    mark = int(input(\"Введите оценку: \"))\n",
    "    if mark < 4:\n",
    "        print('YES')\n",
    "        break\n",
    "    i += 1\n",
    "else: # else находится на том же уровне отступа, что и while, поэтому относится именно к циклу, а не к условию внутри цикла\n",
    "    print ('NO')"
   ]
  },
  {
   "cell_type": "markdown",
   "metadata": {},
   "source": [
    "Оператор `continue` позволяет сразу же перейти на новую итерацию цикла, не выполняя код, который написан внутри цикла ниже его.\n",
    "\n",
    "Изменим условие задачи - теперь будем считать количество пересдач у студента"
   ]
  },
  {
   "cell_type": "code",
   "execution_count": null,
   "metadata": {},
   "outputs": [],
   "source": [
    "i = 1\n",
    "retakes = 0\n",
    "while i <= 5:\n",
    "    mark = int(input(\"Введите оценку: \"))\n",
    "    i += 1\n",
    "    if mark >= 4: # если пересдачи нет, сразу же идем проверять переменную i, без увеличесния переменной retakes\n",
    "        continue\n",
    "    retakes += 1\n",
    "print(\"Итого пересдач:\", retakes)"
   ]
  },
  {
   "cell_type": "markdown",
   "metadata": {},
   "source": [
    "Операторами `break` и `continue` не стоит злоупотреблять, это может ухудшить читаемость кода.\n",
    "\n",
    "Например, в предыдущем примере мы бы справились и без `continue`:"
   ]
  },
  {
   "cell_type": "code",
   "execution_count": null,
   "metadata": {},
   "outputs": [],
   "source": [
    "i = 1\n",
    "retakes = 0\n",
    "while i <= 5:\n",
    "    mark = int(input(\"Введите оценку: \"))\n",
    "    i += 1\n",
    "    if mark < 4:\n",
    "        retakes += 1\n",
    "print(\"Итого пересдач:\", retakes)"
   ]
  },
  {
   "cell_type": "markdown",
   "metadata": {},
   "source": [
    "### Задача X (с прошлого занятия)\n",
    "\n",
    "У питона есть набор любимых чисел.\n",
    "\n",
    "    favorites = [3, 7, 11, 23, 18, 48, 81]\n",
    "\n",
    "Напишите программу, которая просит пользователя ввести целое число, и если оно нравится питону, на экран будет выводиться сообщение: \"Мое любимое число!\", если нет – \"Эх, ну почему?\"."
   ]
  },
  {
   "cell_type": "code",
   "execution_count": 202,
   "metadata": {},
   "outputs": [
    {
     "name": "stdout",
     "output_type": "stream",
     "text": [
      "6\n",
      "Эх, ну почему?\n"
     ]
    }
   ],
   "source": [
    "favorites = [3, 7, 11, 23, 18, 48, 81]\n",
    "x = int(input())\n",
    "ind = 0\n",
    "while ind != len(favorites):\n",
    "    if favorites[ind] == x:\n",
    "        print('Мое любимое число!')\n",
    "        break\n",
    "    ind = ind + 1\n",
    "else:  # else находится на том же уровне отступа, что и while, поэтому относится именно к циклу, а не к условию внутри цикла\n",
    "    print('Эх, ну почему?')"
   ]
  },
  {
   "cell_type": "code",
   "execution_count": 187,
   "metadata": {},
   "outputs": [
    {
     "name": "stdout",
     "output_type": "stream",
     "text": [
      "3\n",
      "Мое любимое число!\n"
     ]
    }
   ],
   "source": [
    "x = int(input())\n",
    "for i in favorites:\n",
    "    if i == x:\n",
    "        print('Мое любимое число!')\n",
    "        break\n",
    "else: \n",
    "    print('Эх, ну почему?')"
   ]
  },
  {
   "cell_type": "markdown",
   "metadata": {},
   "source": [
    "## Часть 2: кортежи и словари\n"
   ]
  },
  {
   "cell_type": "markdown",
   "metadata": {},
   "source": [
    "### Задача 1\n",
    "\n",
    "Дан словарь с названиями разных рептилий:"
   ]
  },
  {
   "cell_type": "code",
   "execution_count": 193,
   "metadata": {},
   "outputs": [],
   "source": [
    "rept = {\"python\" : \" питон\", \n",
    "        \"anaconda\" : \"анаконда\", \n",
    "        \"tortoize\" : \" черепаха\" }"
   ]
  },
  {
   "cell_type": "markdown",
   "metadata": {},
   "source": [
    "* Добавьте в словарь пару \"snake\" - \" змея\".\n",
    "* Исправьте ключ \"tortoize\" на правильный \"tortoise\".\n",
    "* Выведите на экран сообщения вида\n",
    "\n",
    "    питон по-английски будет python;\n",
    "\n",
    "для всех слов в словаре (сообщение для каждого слова ‒ с новой строчки)."
   ]
  },
  {
   "cell_type": "code",
   "execution_count": 190,
   "metadata": {},
   "outputs": [],
   "source": [
    "# 1\n",
    "rept[\"snake\"] = \"змея\""
   ]
  },
  {
   "cell_type": "code",
   "execution_count": 191,
   "metadata": {},
   "outputs": [
    {
     "name": "stdout",
     "output_type": "stream",
     "text": [
      "{'python': ' питон', 'anaconda': 'анаконда', 'tortoize': ' черепаха', 'snake': 'змея', 'tortoise': 'черепаха'}\n"
     ]
    }
   ],
   "source": [
    "# 2\n",
    "# сначала добавим элемент с правильным ключом\n",
    "rept[\"tortoise\"] = \"черепаха\"\n",
    "print(rept)"
   ]
  },
  {
   "cell_type": "code",
   "execution_count": 192,
   "metadata": {},
   "outputs": [
    {
     "name": "stdout",
     "output_type": "stream",
     "text": [
      "{'python': ' питон', 'anaconda': 'анаконда', 'snake': 'змея', 'tortoise': 'черепаха'}\n"
     ]
    }
   ],
   "source": [
    "# потом удалим элемент с неправильным ключом\n",
    "del rept[\"tortoize\"]\n",
    "print(rept)"
   ]
  },
  {
   "cell_type": "code",
   "execution_count": 195,
   "metadata": {},
   "outputs": [
    {
     "data": {
      "text/plain": [
       "{'python': ' питон', 'anaconda': 'анаконда', 'tortoise': ' черепаха'}"
      ]
     },
     "execution_count": 195,
     "metadata": {},
     "output_type": "execute_result"
    }
   ],
   "source": [
    "# тоже рабочий вариант\n",
    "#rept[\"tortoise\"] =  rept.pop('tortoize')\n",
    "#rept"
   ]
  },
  {
   "cell_type": "code",
   "execution_count": null,
   "metadata": {},
   "outputs": [],
   "source": [
    "# 4\n",
    "for k, v in rept.items():\n",
    "    print(v, \" по-английски будет \", k, \";\", sep = \"\")"
   ]
  },
  {
   "cell_type": "markdown",
   "metadata": {},
   "source": [
    "### Задача 2\n",
    "\n",
    "Дан список студентов."
   ]
  },
  {
   "cell_type": "code",
   "execution_count": 196,
   "metadata": {},
   "outputs": [],
   "source": [
    "students = [\"Вася\", \"Маша\", \"Петя\", \n",
    "            \"Дима\", \"Марина\", \"Люба\", \n",
    "            \"Коля\", \"Ваня\"]"
   ]
  },
  {
   "cell_type": "markdown",
   "metadata": {},
   "source": [
    "Оценки студентов за контрольную работу сохранены в словаре *grades*:"
   ]
  },
  {
   "cell_type": "code",
   "execution_count": 197,
   "metadata": {},
   "outputs": [],
   "source": [
    "grades = {\"Вася\" : 4, \"Петя\" : 9, \"Марина\" : 8,\n",
    "          \"Люба\" : 4, \"Коля\" : 5, \"Ваня\": 10}"
   ]
  },
  {
   "cell_type": "markdown",
   "metadata": {},
   "source": [
    "* Напишите программу, которая выводит на экран имя студента из списка *students* и его оценку. Если оценки студента из списка *students* нет, то на экран должно выводиться имя студента и сообщение \"Контрольную работу не писал(а)\".\n",
    "\n",
    "* Напишите программу, которая выводит на экран имена студентов, которые получили отличные оценки (8 и выше).\n",
    "\n",
    "* Напишите программу, которая сохраняет имена студентов, получивших хорошие и отличные оценки, в список *good*, а получивших удовлетворительные и плохие оценки ‒ в список *bad*."
   ]
  },
  {
   "cell_type": "code",
   "execution_count": 198,
   "metadata": {},
   "outputs": [
    {
     "name": "stdout",
     "output_type": "stream",
     "text": [
      "Вася 4\n",
      "Маша Контрольную работу не писал(а)\n",
      "Петя 9\n",
      "Дима Контрольную работу не писал(а)\n",
      "Марина 8\n",
      "Люба 4\n",
      "Коля 5\n",
      "Ваня 10\n"
     ]
    }
   ],
   "source": [
    "# 1\n",
    "for s in students:\n",
    "    print(s, grades.get(s, \"Контрольную работу не писал(а)\"))"
   ]
  },
  {
   "cell_type": "code",
   "execution_count": 199,
   "metadata": {},
   "outputs": [
    {
     "name": "stdout",
     "output_type": "stream",
     "text": [
      "Петя\n",
      "Марина\n",
      "Ваня\n"
     ]
    }
   ],
   "source": [
    "# 2\n",
    "for st, gr in grades.items():\n",
    "    if gr >= 8:\n",
    "        print(st)"
   ]
  },
  {
   "cell_type": "code",
   "execution_count": 200,
   "metadata": {},
   "outputs": [
    {
     "name": "stdout",
     "output_type": "stream",
     "text": [
      "['Петя', 'Марина', 'Ваня']\n",
      "['Вася', 'Люба', 'Коля']\n"
     ]
    }
   ],
   "source": [
    "good = []\n",
    "bad = []\n",
    "\n",
    "for st, gr in grades.items():\n",
    "    if gr >= 6:\n",
    "        good.append(st)\n",
    "    else:\n",
    "        bad.append(st)\n",
    "\n",
    "print(good)\n",
    "print(bad)"
   ]
  },
  {
   "cell_type": "markdown",
   "metadata": {},
   "source": [
    "### Задача Х (с прошлого занятия, пытаемся решить для любых вводных данных)\n",
    "Даны три целых числа. Определите, сколько среди них совпадающих. Программа должна вывести одно из чисел: 3 (если все совпадают), 2 (если два совпадает) или 0 (если все числа различны).\n",
    "\n",
    "*Входные данные:*\n",
    "\n",
    "    Вводятся три целых числа\n",
    "\n",
    "*Выходные данные:*\n",
    "\n",
    "    Целое число\n"
   ]
  },
  {
   "cell_type": "code",
   "execution_count": 203,
   "metadata": {},
   "outputs": [
    {
     "name": "stdout",
     "output_type": "stream",
     "text": [
      "34оырсшв 3к89483 воылс,39ж,3йу3ды9а\n"
     ]
    }
   ],
   "source": [
    "numbers = input() # вообще все, что угодно может быть; что делать?\n",
    "# считаем, что числа, которые ничем не разделены -- это одно число"
   ]
  },
  {
   "cell_type": "code",
   "execution_count": 204,
   "metadata": {},
   "outputs": [
    {
     "data": {
      "text/plain": [
       "'34оырсшв 3к89483 воылс,39ж,3йу3ды9а'"
      ]
     },
     "execution_count": 204,
     "metadata": {},
     "output_type": "execute_result"
    }
   ],
   "source": [
    "numbers"
   ]
  },
  {
   "cell_type": "code",
   "execution_count": 205,
   "metadata": {},
   "outputs": [
    {
     "name": "stdout",
     "output_type": "stream",
     "text": [
      "[34, 3, 89483, 39, 3, 3, 9]\n"
     ]
    }
   ],
   "source": [
    "# 1. нужно это как-то обработать -- по итогу хотим получить список с числами\n",
    "clear_nums = []\n",
    "n = []\n",
    "i = 0\n",
    "\n",
    "numbers = numbers + ' ' # это позволит else работать в конце (для если какое-нибудь число идет последним)\n",
    "\n",
    "while i != len(numbers):\n",
    "    if numbers[i].isdigit():  # тут мы убираем вообще все, что не является цифрой\n",
    "        n.append(numbers[i])\n",
    "    else:\n",
    "        if len(n) != 0:\n",
    "            clear_nums.append(int(''.join(n)))\n",
    "            n.clear()\n",
    "    i = i + 1\n",
    "\n",
    "print(clear_nums)"
   ]
  },
  {
   "cell_type": "code",
   "execution_count": 206,
   "metadata": {},
   "outputs": [
    {
     "name": "stdout",
     "output_type": "stream",
     "text": [
      "{34: 1, 3: 3, 89483: 1, 39: 1, 9: 1}\n"
     ]
    }
   ],
   "source": [
    "# 2. нужно посчитать количество повторений\n",
    "\n",
    "new_dict = {}\n",
    "\n",
    "for i in clear_nums:  # для каждого элемента в нашем списке (для каждой строки) \n",
    "    \n",
    "    if i in new_dict:\n",
    "        new_dict[i] += 1 # new_dict[i] = new_dict[i] + 1\n",
    "    else:\n",
    "        new_dict[i] = 1\n",
    "        \n",
    "print(new_dict)"
   ]
  },
  {
   "cell_type": "code",
   "execution_count": 207,
   "metadata": {},
   "outputs": [
    {
     "name": "stdout",
     "output_type": "stream",
     "text": [
      "{1: [34, 89483, 39, 9], 3: [3]}\n"
     ]
    }
   ],
   "source": [
    "value_dict = {}\n",
    "for k, v in new_dict.items():\n",
    "    if v not in value_dict:\n",
    "        value_dict[v] = [k]\n",
    "    else:\n",
    "        value_dict[v].append(k)\n",
    "        \n",
    "print(value_dict)"
   ]
  },
  {
   "cell_type": "code",
   "execution_count": 208,
   "metadata": {},
   "outputs": [
    {
     "name": "stdout",
     "output_type": "stream",
     "text": [
      "[(1, [34, 89483, 39, 9]), (3, [3])]\n"
     ]
    }
   ],
   "source": [
    "# 3. отсортировать по значениям\n",
    "\n",
    "new_dict_sorted = sorted(value_dict.items())\n",
    "print(new_dict_sorted)"
   ]
  },
  {
   "cell_type": "code",
   "execution_count": 209,
   "metadata": {},
   "outputs": [
    {
     "name": "stdout",
     "output_type": "stream",
     "text": [
      "Были введены числа 3, 3, 3, 9, 34, 39, 89483\n",
      "Число(а) 3 встречаются по 3 раз(а)\n",
      "Число(а), которые встречаются только раз: 9, 34, 39, 89483\n"
     ]
    }
   ],
   "source": [
    "# 4. красиво разговаривать с пользователем\n",
    "\n",
    "print(f\"Были введены числа {', '.join([str(x) for x in sorted(clear_nums)])}\")\n",
    "\n",
    "if len(new_dict_sorted) == 0:\n",
    "    print('Нет чисел!!')\n",
    "elif len(new_dict_sorted) == 1:\n",
    "    if new_dict_sorted[0][1] > 1:\n",
    "        print(f'Введено только одно число {new_dict_sorted[0][1][0]} несколько раз -- {new_dict_sorted[0][0]}')\n",
    "    else:\n",
    "        print(f'Введено только одно число -- {new_dict_sorted[0][1][0]} -- один раз')\n",
    "else:\n",
    "    one_n = []\n",
    "    for i in new_dict_sorted:\n",
    "        if i[0] > 1:\n",
    "            print(f\"Число(а) {', '. join([str(x) for x in sorted(i[1])])} встречаются по {i[0]} раз(а)\")\n",
    "        else:\n",
    "            one_n.extend(i[1])\n",
    "        \n",
    "    if len(one_n) > 0:\n",
    "        print(f\"Число(а), которые встречаются только раз: {', '.join([str(x) for x in sorted(one_n)])}\")"
   ]
  }
 ],
 "metadata": {
  "kernelspec": {
   "display_name": "Python 3",
   "language": "python",
   "name": "python3"
  },
  "language_info": {
   "codemirror_mode": {
    "name": "ipython",
    "version": 3
   },
   "file_extension": ".py",
   "mimetype": "text/x-python",
   "name": "python",
   "nbconvert_exporter": "python",
   "pygments_lexer": "ipython3",
   "version": "3.8.5"
  }
 },
 "nbformat": 4,
 "nbformat_minor": 4
}

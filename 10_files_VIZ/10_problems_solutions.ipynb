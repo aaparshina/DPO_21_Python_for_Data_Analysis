{
 "cells": [
  {
   "cell_type": "markdown",
   "metadata": {},
   "source": [
    "# Python для автоматизации и анализа данных\n",
    "\n",
    "## Занятие 10 — 25/11/2021\n",
    "\n",
    "*Материалы взяты из курсов Тамбовцевой Аллы «Основы программирования в Python» и Рогович Татьяны «Python для исследователей».*"
   ]
  },
  {
   "cell_type": "code",
   "execution_count": 4,
   "metadata": {},
   "outputs": [],
   "source": [
    "import re"
   ]
  },
  {
   "cell_type": "markdown",
   "metadata": {},
   "source": [
    "## Часть 1: cбор данных с помощью регулярных выражений из текстового файла"
   ]
  },
  {
   "cell_type": "markdown",
   "metadata": {},
   "source": [
    "Загрузите файл `biography.txt`, соберите все даты (года), постройте столбчатую диаграмму по данным и определите самый насыщенный событиями год. "
   ]
  },
  {
   "cell_type": "code",
   "execution_count": null,
   "metadata": {},
   "outputs": [],
   "source": []
  },
  {
   "cell_type": "markdown",
   "metadata": {},
   "source": [
    "## Часть 2: визуализация с matplotlib"
   ]
  },
  {
   "cell_type": "code",
   "execution_count": 11,
   "metadata": {},
   "outputs": [],
   "source": [
    "# наша основная библиотека для визуализаций\n",
    "import matplotlib.pyplot as plt  \n",
    "\n",
    "# магическая функция, чтобы графики отображались в блокноте под ячейками\n",
    "%matplotlib inline  "
   ]
  }
 ],
 "metadata": {
  "kernelspec": {
   "display_name": "Python 3",
   "language": "python",
   "name": "python3"
  },
  "language_info": {
   "codemirror_mode": {
    "name": "ipython",
    "version": 3
   },
   "file_extension": ".py",
   "mimetype": "text/x-python",
   "name": "python",
   "nbconvert_exporter": "python",
   "pygments_lexer": "ipython3",
   "version": "3.8.5"
  }
 },
 "nbformat": 4,
 "nbformat_minor": 4
}

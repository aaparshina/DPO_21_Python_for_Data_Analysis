{
  "nbformat": 4,
  "nbformat_minor": 0,
  "metadata": {
    "colab": {
      "name": "14_problems.ipynb",
      "provenance": []
    },
    "kernelspec": {
      "name": "python3",
      "display_name": "Python 3"
    },
    "language_info": {
      "name": "python"
    }
  },
  "cells": [
    {
      "cell_type": "markdown",
      "source": [
        "# Python для автоматизации и анализа данных\n",
        "\n",
        "## Занятие 14 — 16/12/2021\n",
        "\n",
        "## Работа с API YouTube (продолжение)\n",
        "\n",
        "API (Application Programming Interface или интерфейс программирования приложений) — это совокупность инструментов и функций в виде интерфейса для создания новых приложений, благодаря которому одна программа будет взаимодействовать с другой.  \n",
        "\n",
        "Подробнее [тут](https://habr.com/ru/post/464261/).\n",
        "\n",
        "На основе лекций курса Ротмистрова А.В. и Жучковой С.В. [Методология и методы исследований в социологии: современные методы анализа социологических данных](https://www.hse.ru/edu/courses/375301084).\n",
        "\n",
        "\n",
        "[Документация к API YouTube](https://developers.google.com/youtube/v3/docs?hl=ru)"
      ],
      "metadata": {
        "id": "nUOeYdSBECpY"
      }
    },
    {
      "cell_type": "code",
      "source": [
        "import googleapiclient.discovery as api\n",
        "import pandas as pd\n",
        "import plotly.graph_objects as go\n",
        "youtube = api.build('youtube', 'v3', developerKey = 'ВАШ КЛЮЧ')"
      ],
      "metadata": {
        "id": "KHiSG3CihsOU"
      },
      "execution_count": null,
      "outputs": []
    },
    {
      "cell_type": "markdown",
      "source": [
        "### На прошлом занятии: "
      ],
      "metadata": {
        "id": "5k_g-Yoohn8_"
      }
    },
    {
      "cell_type": "code",
      "source": [
        "request = youtube.search().list(\n",
        "        part=\"snippet\",\n",
        "        maxResults=50,\n",
        "        q=\"вакцинация\",\n",
        "        type='video')\n",
        "response = request.execute()"
      ],
      "metadata": {
        "id": "U89FgPuKQWm2"
      },
      "execution_count": null,
      "outputs": []
    },
    {
      "cell_type": "code",
      "source": [
        "response['items'][0] # первое видео"
      ],
      "metadata": {
        "colab": {
          "base_uri": "https://localhost:8080/"
        },
        "id": "5T0UhT6xXHC2",
        "outputId": "b0c4db19-9cd3-42a0-c2e2-1aad8ae92518"
      },
      "execution_count": null,
      "outputs": [
        {
          "output_type": "execute_result",
          "data": {
            "text/plain": [
              "{'etag': 'cEUKz5hctpuX-W_xRv_FgvIk2TQ',\n",
              " 'id': {'kind': 'youtube#video', 'videoId': '9vXJYvmrc9I'},\n",
              " 'kind': 'youtube#searchResult',\n",
              " 'snippet': {'channelId': 'UCWAK-dRtTEjnQnD96L6UMsQ',\n",
              "  'channelTitle': 'РБК',\n",
              "  'description': 'Подпишитесь на канал РБК: https://www.youtube.com/user/tvrbcnews?sub_confirmation=1 --------------------- Американская Pfizer ...',\n",
              "  'liveBroadcastContent': 'none',\n",
              "  'publishTime': '2020-11-23T05:37:21Z',\n",
              "  'publishedAt': '2020-11-23T05:37:21Z',\n",
              "  'thumbnails': {'default': {'height': 90,\n",
              "    'url': 'https://i.ytimg.com/vi/9vXJYvmrc9I/default.jpg',\n",
              "    'width': 120},\n",
              "   'high': {'height': 360,\n",
              "    'url': 'https://i.ytimg.com/vi/9vXJYvmrc9I/hqdefault.jpg',\n",
              "    'width': 480},\n",
              "   'medium': {'height': 180,\n",
              "    'url': 'https://i.ytimg.com/vi/9vXJYvmrc9I/mqdefault.jpg',\n",
              "    'width': 320}},\n",
              "  'title': 'Вакцины от коронавируса Pfizer и «Спутник V» — что лучше и как они работают?'}}"
            ]
          },
          "metadata": {},
          "execution_count": 7
        }
      ]
    },
    {
      "cell_type": "code",
      "source": [
        "response['items'][0]['snippet'] # и тут нас интересует title"
      ],
      "metadata": {
        "colab": {
          "base_uri": "https://localhost:8080/"
        },
        "id": "ys4a6nItXLnc",
        "outputId": "e66eeb86-54a4-4072-fa0c-66f0fcd3be7e"
      },
      "execution_count": null,
      "outputs": [
        {
          "output_type": "execute_result",
          "data": {
            "text/plain": [
              "{'channelId': 'UCWAK-dRtTEjnQnD96L6UMsQ',\n",
              " 'channelTitle': 'РБК',\n",
              " 'description': 'Подпишитесь на канал РБК: https://www.youtube.com/user/tvrbcnews?sub_confirmation=1 --------------------- Американская Pfizer ...',\n",
              " 'liveBroadcastContent': 'none',\n",
              " 'publishTime': '2020-11-23T05:37:21Z',\n",
              " 'publishedAt': '2020-11-23T05:37:21Z',\n",
              " 'thumbnails': {'default': {'height': 90,\n",
              "   'url': 'https://i.ytimg.com/vi/9vXJYvmrc9I/default.jpg',\n",
              "   'width': 120},\n",
              "  'high': {'height': 360,\n",
              "   'url': 'https://i.ytimg.com/vi/9vXJYvmrc9I/hqdefault.jpg',\n",
              "   'width': 480},\n",
              "  'medium': {'height': 180,\n",
              "   'url': 'https://i.ytimg.com/vi/9vXJYvmrc9I/mqdefault.jpg',\n",
              "   'width': 320}},\n",
              " 'title': 'Вакцины от коронавируса Pfizer и «Спутник V» — что лучше и как они работают?'}"
            ]
          },
          "metadata": {},
          "execution_count": 8
        }
      ]
    },
    {
      "cell_type": "code",
      "source": [
        "response['items'][0]['snippet']['title']"
      ],
      "metadata": {
        "id": "b_Ng4pMmXOSj",
        "outputId": "efcaeb15-8786-42d7-e755-3ce063f5c73f",
        "colab": {
          "base_uri": "https://localhost:8080/",
          "height": 36
        }
      },
      "execution_count": null,
      "outputs": [
        {
          "output_type": "execute_result",
          "data": {
            "application/vnd.google.colaboratory.intrinsic+json": {
              "type": "string"
            },
            "text/plain": [
              "'Вакцины от коронавируса Pfizer и «Спутник V» — что лучше и как они работают?'"
            ]
          },
          "metadata": {},
          "execution_count": 9
        }
      ]
    },
    {
      "cell_type": "code",
      "source": [
        "for k in response['items']:\n",
        "    print(k['snippet']['title'])"
      ],
      "metadata": {
        "id": "sEhMBMdOXQu5",
        "outputId": "df8bc551-654a-4282-f56b-14befe76b2f0",
        "colab": {
          "base_uri": "https://localhost:8080/"
        }
      },
      "execution_count": null,
      "outputs": [
        {
          "output_type": "stream",
          "name": "stdout",
          "text": [
            "Вакцины от коронавируса Pfizer и «Спутник V» — что лучше и как они работают?\n",
            "Всё о вакцине Pfizer | ДЕТАЛИ\n",
            "В Великобритании от побочных эффектов вакцины &quot;Пфайзер&quot; скончалось больше людей, чем от &quot;АстраЗенеки\n",
            "Ученые: вакцина Pfizer недостаточно эффективна против &quot;омикрона&quot; - Россия 24 ​\n",
            "П&#39;ять речей, які потрібно знати про вакцину Pfizer\n",
            "Вакцина от Pfizer подходит не всем и имеет серьезные побочные эффекты - Россия 24\n",
            "Pfizer заявила о необходимости третьей дозы вакцины от COVID-19\n",
            "У женщин проявилась странная побочка от вакцины Pfizer. Факты - Россия 24\n",
            "Создатели вакцины Pfizer/BioNTech: &quot;эта вакцина разрабатывалась 30 лет&quot;\n",
            "BioNTech/Pfizer, AstraZeneca та інші - яка вакцина проти COVID-19 найкраща? | DW Ukrainian\n",
            "Как будет проходить вакцинация Pfizer?\n",
            "Вакцинация Pfizer: где и как будут хранить препарат в столице\n",
            "Достоинства вакцины Pfizer перевешивают ее недостатки - эксперты\n",
            "В Европе разгорается громкий скандал вокруг регистрации вакцин Pfizer и Moderna.\n",
            "Вакцинация PFIZER | Последствия от вакцины PFIZER |Сертификат вакцинации |Путешествие с сертификатом\n",
            "Мій досвід вакцинації Пфайзер від COVID 19 - побічні ефекти після вакцини Pfizer\n",
            "«Спутник», AstraZeneca, Pfizer или Sinopharm – какую вакцину выбрать?\n",
            "Чи впливає вакцина Pfizer на здатність народжувати – імунолог Борис Донський\n",
            "Выбор вакцины против COVID-19: появятся ли другие препараты\n",
            "Азия: вакцинация «Спутником V» вместо Pfizer\n",
            "Вакцинация препаратом Pfizer началась в Нур-Султане, Таразе и Караганде\n",
            "Повторную инъекцию вакцины Pfizer можно отложить – ВОЗ\n",
            "Испытания вакцины на детях: в Финляндии для тестов выбрали препарат BioNTech-Pfizer\n",
            "⛑ Сегодня получила первую дозу вакцини Pfizer #вакцинация2021 #вакцина #вакцинация #Pfizer #shorts\n",
            "Новини України: скільки уколів вакцини Pfizer потрібно зробити, аби захиститися від коронавірусу\n",
            "Лучшая прививка от COVID-19: итоги всемирного конгресса вакцин и интрига вокруг фаворита\n",
            "Вакцина Pfizer — в Украине. Подробности | День 16.04.21\n",
            "VLOG #4 | Вакцинация от коронавируса в Дубай | PFIZER | побочные эффекты\n",
            "ВАКЦИНАЦИЯ ОТ КОРОНАВИРУСА В ИЗРАИЛЕ // Вакцина Pfizer\n",
            "Вакцинація. Pfizer. Моя історія. Все добре чи нездужання, втрата свідомості, реанімація... ?!\n",
            "Все что вы хотели сросить про прививку от короны узнайте сейчас у врача\n",
            "Задержания в Хабаровске. Менделеев - агент разведки? Массовая вакцинация Pfizer в Великобритании\n",
            "Побочные эффекты вакцинации против COVID-19\n",
            "Вакцинация « PFIZER» начнется  20 ноября\n",
            "Началась вакцинация препаратом Pfizer в столице\n",
            "Обморок и аллергия: вакцина Pfizer довела до больницы - Россия 24\n",
            "В Україну прибула вакцина Pfizer: цих доз замало для пожвавлення процесу вакцинації, - Александрін\n",
            "На КПВВ &quot;Чонгар&quot; и &quot;Каланчак&quot; началась вакцинация от COVID-19\n",
            "Вакцинація Pfizer на Дніпропетровщині: як щеплюють працівників Інтерпайп\n",
            "Началась вакцинация Pfizer\n",
            "Компанія &quot;Pfizer&quot; заявляє, що її таблетки від COVID ефективні і проти &quot;Омікрону&quot; | ТСН 12:00\n",
            "Вакцина Pfizer/BioNtech - конец пандемии?\n",
            "ВАКЦИНИРОВАЛСЯ  PFIZER ОТ COVID 19 !  ! ПОСЛЕДСТВИЯ ОТ ВАКЦИНЫ ПФАЙЗЕР ! ВАКЦИНАЦИЯ В ХОРВАТИИ,СПЛИТ\n",
            "Вакцинация детей от коронавируса в Казахстане начнется с ноября\n",
            "В Казахстан привезут 2 миллиона доз бесплатных вакцин из США\n",
            "Вакцинация продолжается: «Pfizer» и «AstraZeneca»\n",
            "Как происходит вакцинация долгожданным препаратом Pfizer | Вікна-Новини\n",
            "Вакцинация детей: сколько родителей против прививки от КВИ\n",
            "«Pfizer» для медиков. Вакцинация продолжается\n",
            "Началась вакцинация «Pfizer»\n"
          ]
        }
      ]
    },
    {
      "cell_type": "code",
      "source": [
        "df = pd.json_normalize(response['items'])\n",
        "df.head()"
      ],
      "metadata": {
        "colab": {
          "base_uri": "https://localhost:8080/",
          "height": 411
        },
        "id": "IxeZVwmNSoln",
        "outputId": "bad0acf3-547c-43c6-b8b5-e7584d9c3df3"
      },
      "execution_count": null,
      "outputs": [
        {
          "output_type": "execute_result",
          "data": {
            "text/html": [
              "<div>\n",
              "<style scoped>\n",
              "    .dataframe tbody tr th:only-of-type {\n",
              "        vertical-align: middle;\n",
              "    }\n",
              "\n",
              "    .dataframe tbody tr th {\n",
              "        vertical-align: top;\n",
              "    }\n",
              "\n",
              "    .dataframe thead th {\n",
              "        text-align: right;\n",
              "    }\n",
              "</style>\n",
              "<table border=\"1\" class=\"dataframe\">\n",
              "  <thead>\n",
              "    <tr style=\"text-align: right;\">\n",
              "      <th></th>\n",
              "      <th>kind</th>\n",
              "      <th>etag</th>\n",
              "      <th>id.kind</th>\n",
              "      <th>id.videoId</th>\n",
              "      <th>snippet.publishedAt</th>\n",
              "      <th>snippet.channelId</th>\n",
              "      <th>snippet.title</th>\n",
              "      <th>snippet.description</th>\n",
              "      <th>snippet.thumbnails.default.url</th>\n",
              "      <th>snippet.thumbnails.default.width</th>\n",
              "      <th>snippet.thumbnails.default.height</th>\n",
              "      <th>snippet.thumbnails.medium.url</th>\n",
              "      <th>snippet.thumbnails.medium.width</th>\n",
              "      <th>snippet.thumbnails.medium.height</th>\n",
              "      <th>snippet.thumbnails.high.url</th>\n",
              "      <th>snippet.thumbnails.high.width</th>\n",
              "      <th>snippet.thumbnails.high.height</th>\n",
              "      <th>snippet.channelTitle</th>\n",
              "      <th>snippet.liveBroadcastContent</th>\n",
              "      <th>snippet.publishTime</th>\n",
              "    </tr>\n",
              "  </thead>\n",
              "  <tbody>\n",
              "    <tr>\n",
              "      <th>0</th>\n",
              "      <td>youtube#searchResult</td>\n",
              "      <td>wJjxKQ08jiLj74ZSWG5llg_-E0c</td>\n",
              "      <td>youtube#video</td>\n",
              "      <td>vZXnEbTRDZc</td>\n",
              "      <td>2021-12-16T09:32:12Z</td>\n",
              "      <td>UCFzJjgVicCtFxJ5B0P_ei8A</td>\n",
              "      <td>Ковид: вакцинация и ограничения</td>\n",
              "      <td>В странах ЕС вводятся новые ограничения в связ...</td>\n",
              "      <td>https://i.ytimg.com/vi/vZXnEbTRDZc/default.jpg</td>\n",
              "      <td>120</td>\n",
              "      <td>90</td>\n",
              "      <td>https://i.ytimg.com/vi/vZXnEbTRDZc/mqdefault.jpg</td>\n",
              "      <td>320</td>\n",
              "      <td>180</td>\n",
              "      <td>https://i.ytimg.com/vi/vZXnEbTRDZc/hqdefault.jpg</td>\n",
              "      <td>480</td>\n",
              "      <td>360</td>\n",
              "      <td>Euronews по-русски</td>\n",
              "      <td>none</td>\n",
              "      <td>2021-12-16T09:32:12Z</td>\n",
              "    </tr>\n",
              "    <tr>\n",
              "      <th>1</th>\n",
              "      <td>youtube#searchResult</td>\n",
              "      <td>Qt_ATpn9mn-4nTvDdsixCr5nEFo</td>\n",
              "      <td>youtube#video</td>\n",
              "      <td>qevnbrsnuqE</td>\n",
              "      <td>2021-12-13T20:30:03Z</td>\n",
              "      <td>UC_IEcnNeHc_bwd92Ber-lew</td>\n",
              "      <td>Вакцинация раз в три месяца: Европа опасается ...</td>\n",
              "      <td>СМОТРИМ В HD ТУТ - https://smotrim.ru/vesti/?u...</td>\n",
              "      <td>https://i.ytimg.com/vi/qevnbrsnuqE/default.jpg</td>\n",
              "      <td>120</td>\n",
              "      <td>90</td>\n",
              "      <td>https://i.ytimg.com/vi/qevnbrsnuqE/mqdefault.jpg</td>\n",
              "      <td>320</td>\n",
              "      <td>180</td>\n",
              "      <td>https://i.ytimg.com/vi/qevnbrsnuqE/hqdefault.jpg</td>\n",
              "      <td>480</td>\n",
              "      <td>360</td>\n",
              "      <td>Россия 24</td>\n",
              "      <td>none</td>\n",
              "      <td>2021-12-13T20:30:03Z</td>\n",
              "    </tr>\n",
              "    <tr>\n",
              "      <th>2</th>\n",
              "      <td>youtube#searchResult</td>\n",
              "      <td>ulSfF6kMHXw_DV2ZzuKXcyHN974</td>\n",
              "      <td>youtube#video</td>\n",
              "      <td>X8w_cuWQ-QA</td>\n",
              "      <td>2021-12-14T10:00:11Z</td>\n",
              "      <td>UCgluS-uwDs058dbdD7JV_Yg</td>\n",
              "      <td>На КПВВ &amp;quot;Чонгар&amp;quot; и &amp;quot;Каланчак&amp;qu...</td>\n",
              "      <td>C 1 декабря украинское правительство открыло н...</td>\n",
              "      <td>https://i.ytimg.com/vi/X8w_cuWQ-QA/default.jpg</td>\n",
              "      <td>120</td>\n",
              "      <td>90</td>\n",
              "      <td>https://i.ytimg.com/vi/X8w_cuWQ-QA/mqdefault.jpg</td>\n",
              "      <td>320</td>\n",
              "      <td>180</td>\n",
              "      <td>https://i.ytimg.com/vi/X8w_cuWQ-QA/hqdefault.jpg</td>\n",
              "      <td>480</td>\n",
              "      <td>360</td>\n",
              "      <td>Крымский блог</td>\n",
              "      <td>none</td>\n",
              "      <td>2021-12-14T10:00:11Z</td>\n",
              "    </tr>\n",
              "    <tr>\n",
              "      <th>3</th>\n",
              "      <td>youtube#searchResult</td>\n",
              "      <td>kG_4SIyf4QLIBGGMZIxvve0BvPs</td>\n",
              "      <td>youtube#video</td>\n",
              "      <td>DTzfQrorAVU</td>\n",
              "      <td>2021-12-15T09:38:19Z</td>\n",
              "      <td>UCFzJjgVicCtFxJ5B0P_ei8A</td>\n",
              "      <td>Польша: преодолеть сопротивление вакцинации</td>\n",
              "      <td>В Польше вступают в силу новые антиковидные ог...</td>\n",
              "      <td>https://i.ytimg.com/vi/DTzfQrorAVU/default.jpg</td>\n",
              "      <td>120</td>\n",
              "      <td>90</td>\n",
              "      <td>https://i.ytimg.com/vi/DTzfQrorAVU/mqdefault.jpg</td>\n",
              "      <td>320</td>\n",
              "      <td>180</td>\n",
              "      <td>https://i.ytimg.com/vi/DTzfQrorAVU/hqdefault.jpg</td>\n",
              "      <td>480</td>\n",
              "      <td>360</td>\n",
              "      <td>Euronews по-русски</td>\n",
              "      <td>none</td>\n",
              "      <td>2021-12-15T09:38:19Z</td>\n",
              "    </tr>\n",
              "    <tr>\n",
              "      <th>4</th>\n",
              "      <td>youtube#searchResult</td>\n",
              "      <td>0PB55_D9daLlvBx7UUkG9SJjbr4</td>\n",
              "      <td>youtube#video</td>\n",
              "      <td>_JlanA3suLU</td>\n",
              "      <td>2021-12-13T15:15:22Z</td>\n",
              "      <td>UCFTq_8SXc-SByisJqDZp9ZQ</td>\n",
              "      <td>Обязательная вакцинация в канун Нового Года! К...</td>\n",
              "      <td>Как проходит вакцинация в канун Нового Года? Л...</td>\n",
              "      <td>https://i.ytimg.com/vi/_JlanA3suLU/default.jpg</td>\n",
              "      <td>120</td>\n",
              "      <td>90</td>\n",
              "      <td>https://i.ytimg.com/vi/_JlanA3suLU/mqdefault.jpg</td>\n",
              "      <td>320</td>\n",
              "      <td>180</td>\n",
              "      <td>https://i.ytimg.com/vi/_JlanA3suLU/hqdefault.jpg</td>\n",
              "      <td>480</td>\n",
              "      <td>360</td>\n",
              "      <td>ЮМОР ICTV - Официальный канал</td>\n",
              "      <td>none</td>\n",
              "      <td>2021-12-13T15:15:22Z</td>\n",
              "    </tr>\n",
              "  </tbody>\n",
              "</table>\n",
              "</div>"
            ],
            "text/plain": [
              "                   kind  ...   snippet.publishTime\n",
              "0  youtube#searchResult  ...  2021-12-16T09:32:12Z\n",
              "1  youtube#searchResult  ...  2021-12-13T20:30:03Z\n",
              "2  youtube#searchResult  ...  2021-12-14T10:00:11Z\n",
              "3  youtube#searchResult  ...  2021-12-15T09:38:19Z\n",
              "4  youtube#searchResult  ...  2021-12-13T15:15:22Z\n",
              "\n",
              "[5 rows x 20 columns]"
            ]
          },
          "metadata": {},
          "execution_count": 41
        }
      ]
    },
    {
      "cell_type": "code",
      "source": [
        "i = 0\n",
        "while 'nextPageToken' in response.keys():\n",
        "    \n",
        "    request = youtube.search().list(\n",
        "        part=\"snippet\",\n",
        "        maxResults=50,\n",
        "        q=\"вакцинация\",\n",
        "        type='video',\n",
        "        pageToken=response['nextPageToken'])\n",
        "    \n",
        "    response = request.execute()\n",
        "    \n",
        "    i += 1\n",
        "    print(f'Итерация {i}')\n",
        "    \n",
        "    df_add = pd.json_normalize(response['items'])\n",
        "    df = pd.concat([df, df_add])\n",
        "df"
      ],
      "metadata": {
        "colab": {
          "base_uri": "https://localhost:8080/",
          "height": 1000
        },
        "id": "bn6095BZS0M3",
        "outputId": "e9294be8-220a-4eb5-d599-ce11c904001b"
      },
      "execution_count": null,
      "outputs": [
        {
          "output_type": "stream",
          "name": "stdout",
          "text": [
            "Итерация 1\n",
            "Итерация 2\n",
            "Итерация 3\n",
            "Итерация 4\n",
            "Итерация 5\n",
            "Итерация 6\n",
            "Итерация 7\n",
            "Итерация 8\n",
            "Итерация 9\n",
            "Итерация 10\n",
            "Итерация 11\n"
          ]
        },
        {
          "output_type": "execute_result",
          "data": {
            "text/html": [
              "<div>\n",
              "<style scoped>\n",
              "    .dataframe tbody tr th:only-of-type {\n",
              "        vertical-align: middle;\n",
              "    }\n",
              "\n",
              "    .dataframe tbody tr th {\n",
              "        vertical-align: top;\n",
              "    }\n",
              "\n",
              "    .dataframe thead th {\n",
              "        text-align: right;\n",
              "    }\n",
              "</style>\n",
              "<table border=\"1\" class=\"dataframe\">\n",
              "  <thead>\n",
              "    <tr style=\"text-align: right;\">\n",
              "      <th></th>\n",
              "      <th>kind</th>\n",
              "      <th>etag</th>\n",
              "      <th>id.kind</th>\n",
              "      <th>id.videoId</th>\n",
              "      <th>snippet.publishedAt</th>\n",
              "      <th>snippet.channelId</th>\n",
              "      <th>snippet.title</th>\n",
              "      <th>snippet.description</th>\n",
              "      <th>snippet.thumbnails.default.url</th>\n",
              "      <th>snippet.thumbnails.default.width</th>\n",
              "      <th>snippet.thumbnails.default.height</th>\n",
              "      <th>snippet.thumbnails.medium.url</th>\n",
              "      <th>snippet.thumbnails.medium.width</th>\n",
              "      <th>snippet.thumbnails.medium.height</th>\n",
              "      <th>snippet.thumbnails.high.url</th>\n",
              "      <th>snippet.thumbnails.high.width</th>\n",
              "      <th>snippet.thumbnails.high.height</th>\n",
              "      <th>snippet.channelTitle</th>\n",
              "      <th>snippet.liveBroadcastContent</th>\n",
              "      <th>snippet.publishTime</th>\n",
              "    </tr>\n",
              "  </thead>\n",
              "  <tbody>\n",
              "    <tr>\n",
              "      <th>0</th>\n",
              "      <td>youtube#searchResult</td>\n",
              "      <td>wJjxKQ08jiLj74ZSWG5llg_-E0c</td>\n",
              "      <td>youtube#video</td>\n",
              "      <td>vZXnEbTRDZc</td>\n",
              "      <td>2021-12-16T09:32:12Z</td>\n",
              "      <td>UCFzJjgVicCtFxJ5B0P_ei8A</td>\n",
              "      <td>Ковид: вакцинация и ограничения</td>\n",
              "      <td>В странах ЕС вводятся новые ограничения в связ...</td>\n",
              "      <td>https://i.ytimg.com/vi/vZXnEbTRDZc/default.jpg</td>\n",
              "      <td>120</td>\n",
              "      <td>90</td>\n",
              "      <td>https://i.ytimg.com/vi/vZXnEbTRDZc/mqdefault.jpg</td>\n",
              "      <td>320</td>\n",
              "      <td>180</td>\n",
              "      <td>https://i.ytimg.com/vi/vZXnEbTRDZc/hqdefault.jpg</td>\n",
              "      <td>480</td>\n",
              "      <td>360</td>\n",
              "      <td>Euronews по-русски</td>\n",
              "      <td>none</td>\n",
              "      <td>2021-12-16T09:32:12Z</td>\n",
              "    </tr>\n",
              "    <tr>\n",
              "      <th>1</th>\n",
              "      <td>youtube#searchResult</td>\n",
              "      <td>Qt_ATpn9mn-4nTvDdsixCr5nEFo</td>\n",
              "      <td>youtube#video</td>\n",
              "      <td>qevnbrsnuqE</td>\n",
              "      <td>2021-12-13T20:30:03Z</td>\n",
              "      <td>UC_IEcnNeHc_bwd92Ber-lew</td>\n",
              "      <td>Вакцинация раз в три месяца: Европа опасается ...</td>\n",
              "      <td>СМОТРИМ В HD ТУТ - https://smotrim.ru/vesti/?u...</td>\n",
              "      <td>https://i.ytimg.com/vi/qevnbrsnuqE/default.jpg</td>\n",
              "      <td>120</td>\n",
              "      <td>90</td>\n",
              "      <td>https://i.ytimg.com/vi/qevnbrsnuqE/mqdefault.jpg</td>\n",
              "      <td>320</td>\n",
              "      <td>180</td>\n",
              "      <td>https://i.ytimg.com/vi/qevnbrsnuqE/hqdefault.jpg</td>\n",
              "      <td>480</td>\n",
              "      <td>360</td>\n",
              "      <td>Россия 24</td>\n",
              "      <td>none</td>\n",
              "      <td>2021-12-13T20:30:03Z</td>\n",
              "    </tr>\n",
              "    <tr>\n",
              "      <th>2</th>\n",
              "      <td>youtube#searchResult</td>\n",
              "      <td>ulSfF6kMHXw_DV2ZzuKXcyHN974</td>\n",
              "      <td>youtube#video</td>\n",
              "      <td>X8w_cuWQ-QA</td>\n",
              "      <td>2021-12-14T10:00:11Z</td>\n",
              "      <td>UCgluS-uwDs058dbdD7JV_Yg</td>\n",
              "      <td>На КПВВ &amp;quot;Чонгар&amp;quot; и &amp;quot;Каланчак&amp;qu...</td>\n",
              "      <td>C 1 декабря украинское правительство открыло н...</td>\n",
              "      <td>https://i.ytimg.com/vi/X8w_cuWQ-QA/default.jpg</td>\n",
              "      <td>120</td>\n",
              "      <td>90</td>\n",
              "      <td>https://i.ytimg.com/vi/X8w_cuWQ-QA/mqdefault.jpg</td>\n",
              "      <td>320</td>\n",
              "      <td>180</td>\n",
              "      <td>https://i.ytimg.com/vi/X8w_cuWQ-QA/hqdefault.jpg</td>\n",
              "      <td>480</td>\n",
              "      <td>360</td>\n",
              "      <td>Крымский блог</td>\n",
              "      <td>none</td>\n",
              "      <td>2021-12-14T10:00:11Z</td>\n",
              "    </tr>\n",
              "    <tr>\n",
              "      <th>3</th>\n",
              "      <td>youtube#searchResult</td>\n",
              "      <td>kG_4SIyf4QLIBGGMZIxvve0BvPs</td>\n",
              "      <td>youtube#video</td>\n",
              "      <td>DTzfQrorAVU</td>\n",
              "      <td>2021-12-15T09:38:19Z</td>\n",
              "      <td>UCFzJjgVicCtFxJ5B0P_ei8A</td>\n",
              "      <td>Польша: преодолеть сопротивление вакцинации</td>\n",
              "      <td>В Польше вступают в силу новые антиковидные ог...</td>\n",
              "      <td>https://i.ytimg.com/vi/DTzfQrorAVU/default.jpg</td>\n",
              "      <td>120</td>\n",
              "      <td>90</td>\n",
              "      <td>https://i.ytimg.com/vi/DTzfQrorAVU/mqdefault.jpg</td>\n",
              "      <td>320</td>\n",
              "      <td>180</td>\n",
              "      <td>https://i.ytimg.com/vi/DTzfQrorAVU/hqdefault.jpg</td>\n",
              "      <td>480</td>\n",
              "      <td>360</td>\n",
              "      <td>Euronews по-русски</td>\n",
              "      <td>none</td>\n",
              "      <td>2021-12-15T09:38:19Z</td>\n",
              "    </tr>\n",
              "    <tr>\n",
              "      <th>4</th>\n",
              "      <td>youtube#searchResult</td>\n",
              "      <td>0PB55_D9daLlvBx7UUkG9SJjbr4</td>\n",
              "      <td>youtube#video</td>\n",
              "      <td>_JlanA3suLU</td>\n",
              "      <td>2021-12-13T15:15:22Z</td>\n",
              "      <td>UCFTq_8SXc-SByisJqDZp9ZQ</td>\n",
              "      <td>Обязательная вакцинация в канун Нового Года! К...</td>\n",
              "      <td>Как проходит вакцинация в канун Нового Года? Л...</td>\n",
              "      <td>https://i.ytimg.com/vi/_JlanA3suLU/default.jpg</td>\n",
              "      <td>120</td>\n",
              "      <td>90</td>\n",
              "      <td>https://i.ytimg.com/vi/_JlanA3suLU/mqdefault.jpg</td>\n",
              "      <td>320</td>\n",
              "      <td>180</td>\n",
              "      <td>https://i.ytimg.com/vi/_JlanA3suLU/hqdefault.jpg</td>\n",
              "      <td>480</td>\n",
              "      <td>360</td>\n",
              "      <td>ЮМОР ICTV - Официальный канал</td>\n",
              "      <td>none</td>\n",
              "      <td>2021-12-13T15:15:22Z</td>\n",
              "    </tr>\n",
              "    <tr>\n",
              "      <th>...</th>\n",
              "      <td>...</td>\n",
              "      <td>...</td>\n",
              "      <td>...</td>\n",
              "      <td>...</td>\n",
              "      <td>...</td>\n",
              "      <td>...</td>\n",
              "      <td>...</td>\n",
              "      <td>...</td>\n",
              "      <td>...</td>\n",
              "      <td>...</td>\n",
              "      <td>...</td>\n",
              "      <td>...</td>\n",
              "      <td>...</td>\n",
              "      <td>...</td>\n",
              "      <td>...</td>\n",
              "      <td>...</td>\n",
              "      <td>...</td>\n",
              "      <td>...</td>\n",
              "      <td>...</td>\n",
              "      <td>...</td>\n",
              "    </tr>\n",
              "    <tr>\n",
              "      <th>5</th>\n",
              "      <td>youtube#searchResult</td>\n",
              "      <td>YdCr9vdH6DQ3fH3D55IjoSu7Wxc</td>\n",
              "      <td>youtube#video</td>\n",
              "      <td>OdXUonedqEA</td>\n",
              "      <td>2021-11-26T05:45:01Z</td>\n",
              "      <td>UCCdJjiDC8E6V0M-SWNPmDhw</td>\n",
              "      <td>Бог рассказал о Вакцинации!</td>\n",
              "      <td>Бог рассказал о Вакцинации! Книги Вороной\" htt...</td>\n",
              "      <td>https://i.ytimg.com/vi/OdXUonedqEA/default.jpg</td>\n",
              "      <td>120</td>\n",
              "      <td>90</td>\n",
              "      <td>https://i.ytimg.com/vi/OdXUonedqEA/mqdefault.jpg</td>\n",
              "      <td>320</td>\n",
              "      <td>180</td>\n",
              "      <td>https://i.ytimg.com/vi/OdXUonedqEA/hqdefault.jpg</td>\n",
              "      <td>480</td>\n",
              "      <td>360</td>\n",
              "      <td>Валентина Ко́гут – Разгадки Мира</td>\n",
              "      <td>none</td>\n",
              "      <td>2021-11-26T05:45:01Z</td>\n",
              "    </tr>\n",
              "    <tr>\n",
              "      <th>6</th>\n",
              "      <td>youtube#searchResult</td>\n",
              "      <td>9BmdV0yANmP6DyTGyo6-7l4ia38</td>\n",
              "      <td>youtube#video</td>\n",
              "      <td>vodpjH--tkk</td>\n",
              "      <td>2021-02-04T18:53:36Z</td>\n",
              "      <td>UCcC5YAto0S6e-A2_GilNQ7Q</td>\n",
              "      <td>Ковида нет в Украине  Тесты без сертификатов  ...</td>\n",
              "      <td></td>\n",
              "      <td>https://i.ytimg.com/vi/vodpjH--tkk/default.jpg</td>\n",
              "      <td>120</td>\n",
              "      <td>90</td>\n",
              "      <td>https://i.ytimg.com/vi/vodpjH--tkk/mqdefault.jpg</td>\n",
              "      <td>320</td>\n",
              "      <td>180</td>\n",
              "      <td>https://i.ytimg.com/vi/vodpjH--tkk/hqdefault.jpg</td>\n",
              "      <td>480</td>\n",
              "      <td>360</td>\n",
              "      <td>Ramin Imanov</td>\n",
              "      <td>none</td>\n",
              "      <td>2021-02-04T18:53:36Z</td>\n",
              "    </tr>\n",
              "    <tr>\n",
              "      <th>7</th>\n",
              "      <td>youtube#searchResult</td>\n",
              "      <td>XKS9-bLRbittod6RM_9Wq5MRFrs</td>\n",
              "      <td>youtube#video</td>\n",
              "      <td>iNw5_j4xask</td>\n",
              "      <td>2021-12-15T20:03:34Z</td>\n",
              "      <td>UC-ZczaUTgvielGn8wu5aBDg</td>\n",
              "      <td>Вакцинация Риддик, Vaccination Riddick</td>\n",
              "      <td>Вакцинация Риддика, процесс вакцинации и после...</td>\n",
              "      <td>https://i.ytimg.com/vi/iNw5_j4xask/default.jpg</td>\n",
              "      <td>120</td>\n",
              "      <td>90</td>\n",
              "      <td>https://i.ytimg.com/vi/iNw5_j4xask/mqdefault.jpg</td>\n",
              "      <td>320</td>\n",
              "      <td>180</td>\n",
              "      <td>https://i.ytimg.com/vi/iNw5_j4xask/hqdefault.jpg</td>\n",
              "      <td>480</td>\n",
              "      <td>360</td>\n",
              "      <td>Евгений Поздняков</td>\n",
              "      <td>none</td>\n",
              "      <td>2021-12-15T20:03:34Z</td>\n",
              "    </tr>\n",
              "    <tr>\n",
              "      <th>8</th>\n",
              "      <td>youtube#searchResult</td>\n",
              "      <td>8MqHJ83KNUjHrJjf6IECgDb5Azw</td>\n",
              "      <td>youtube#video</td>\n",
              "      <td>fyHmpNaoPwY</td>\n",
              "      <td>2021-06-25T13:07:28Z</td>\n",
              "      <td>UCrQl5D3eJv9b_CyKentxesA</td>\n",
              "      <td>ДОБРОВОЛЬНО-ПРИНУДИТЕЛЬНАЯ ВАКЦИНАЦИЯ // ИСТИН...</td>\n",
              "      <td></td>\n",
              "      <td>https://i.ytimg.com/vi/fyHmpNaoPwY/default.jpg</td>\n",
              "      <td>120</td>\n",
              "      <td>90</td>\n",
              "      <td>https://i.ytimg.com/vi/fyHmpNaoPwY/mqdefault.jpg</td>\n",
              "      <td>320</td>\n",
              "      <td>180</td>\n",
              "      <td>https://i.ytimg.com/vi/fyHmpNaoPwY/hqdefault.jpg</td>\n",
              "      <td>480</td>\n",
              "      <td>360</td>\n",
              "      <td>Сергей Губа</td>\n",
              "      <td>none</td>\n",
              "      <td>2021-06-25T13:07:28Z</td>\n",
              "    </tr>\n",
              "    <tr>\n",
              "      <th>9</th>\n",
              "      <td>youtube#searchResult</td>\n",
              "      <td>ASE9lmRyGG48wKSueMUYm3CtTX4</td>\n",
              "      <td>youtube#video</td>\n",
              "      <td>uqrfCjSpM8o</td>\n",
              "      <td>2021-06-29T11:22:19Z</td>\n",
              "      <td>UC3A_hDN8kFk9IT6gFFzs1ag</td>\n",
              "      <td>Вакцинация без принуждения!</td>\n",
              "      <td>Встреча депутатов-коммунистов с избирателями в...</td>\n",
              "      <td>https://i.ytimg.com/vi/uqrfCjSpM8o/default.jpg</td>\n",
              "      <td>120</td>\n",
              "      <td>90</td>\n",
              "      <td>https://i.ytimg.com/vi/uqrfCjSpM8o/mqdefault.jpg</td>\n",
              "      <td>320</td>\n",
              "      <td>180</td>\n",
              "      <td>https://i.ytimg.com/vi/uqrfCjSpM8o/hqdefault.jpg</td>\n",
              "      <td>480</td>\n",
              "      <td>360</td>\n",
              "      <td>КПРФ Москва</td>\n",
              "      <td>none</td>\n",
              "      <td>2021-06-29T11:22:19Z</td>\n",
              "    </tr>\n",
              "  </tbody>\n",
              "</table>\n",
              "<p>560 rows × 20 columns</p>\n",
              "</div>"
            ],
            "text/plain": [
              "                    kind  ...   snippet.publishTime\n",
              "0   youtube#searchResult  ...  2021-12-16T09:32:12Z\n",
              "1   youtube#searchResult  ...  2021-12-13T20:30:03Z\n",
              "2   youtube#searchResult  ...  2021-12-14T10:00:11Z\n",
              "3   youtube#searchResult  ...  2021-12-15T09:38:19Z\n",
              "4   youtube#searchResult  ...  2021-12-13T15:15:22Z\n",
              "..                   ...  ...                   ...\n",
              "5   youtube#searchResult  ...  2021-11-26T05:45:01Z\n",
              "6   youtube#searchResult  ...  2021-02-04T18:53:36Z\n",
              "7   youtube#searchResult  ...  2021-12-15T20:03:34Z\n",
              "8   youtube#searchResult  ...  2021-06-25T13:07:28Z\n",
              "9   youtube#searchResult  ...  2021-06-29T11:22:19Z\n",
              "\n",
              "[560 rows x 20 columns]"
            ]
          },
          "metadata": {},
          "execution_count": 42
        }
      ]
    },
    {
      "cell_type": "code",
      "source": [
        "df.index = range(1, len(df)+1)\n",
        "df = df.drop_duplicates('id.videoId')\n",
        "df.shape"
      ],
      "metadata": {
        "colab": {
          "base_uri": "https://localhost:8080/"
        },
        "id": "-0hsUBf6TEt4",
        "outputId": "f8871699-3b28-4201-9606-79684e8ce007"
      },
      "execution_count": null,
      "outputs": [
        {
          "output_type": "execute_result",
          "data": {
            "text/plain": [
              "(555, 20)"
            ]
          },
          "metadata": {},
          "execution_count": 43
        }
      ]
    },
    {
      "cell_type": "code",
      "source": [
        "# df.to_excel('Каналы.xlsx')"
      ],
      "metadata": {
        "id": "FfniRDevTDGf"
      },
      "execution_count": null,
      "outputs": []
    },
    {
      "cell_type": "markdown",
      "source": [
        "### Новое. Метод ``.search().list()``, параметр `order`\n",
        "\n",
        "[Документация к методу](https://developers.google.com/youtube/v3/docs/search/list?hl=ru)"
      ],
      "metadata": {
        "id": "VrEK0sDoh5qG"
      }
    },
    {
      "cell_type": "code",
      "source": [
        ""
      ],
      "metadata": {
        "id": "_cCjrJBVismE"
      },
      "execution_count": null,
      "outputs": []
    },
    {
      "cell_type": "markdown",
      "source": [
        "### Новое. Метод ``channels().list()``\n",
        "\n",
        "[Документация к методу](https://developers.google.com/youtube/v3/docs/channels/list?hl=ru)"
      ],
      "metadata": {
        "id": "3R89G85WisDZ"
      }
    },
    {
      "cell_type": "code",
      "source": [
        ""
      ],
      "metadata": {
        "id": "8HwpAio0i-Qj"
      },
      "execution_count": null,
      "outputs": []
    },
    {
      "cell_type": "markdown",
      "source": [
        "### Новое. Метод ``videos().list()``\n",
        "\n",
        "[Документация к методу](https://developers.google.com/youtube/v3/docs/videos/list?hl=ru)"
      ],
      "metadata": {
        "id": "Hnb2X5wQi-eR"
      }
    },
    {
      "cell_type": "code",
      "source": [
        ""
      ],
      "metadata": {
        "id": "mxlMy68YjHVa"
      },
      "execution_count": null,
      "outputs": []
    },
    {
      "cell_type": "markdown",
      "source": [
        "### Новое. Метод ``videoCategories().list()``\n",
        "\n",
        "[Документация к методу](https://developers.google.com/youtube/v3/docs/videoCategories/list?hl=ru)"
      ],
      "metadata": {
        "id": "jZzn0o5-jH80"
      }
    },
    {
      "cell_type": "code",
      "source": [
        ""
      ],
      "metadata": {
        "id": "DFCaYGKvfgDr"
      },
      "execution_count": null,
      "outputs": []
    }
  ]
}
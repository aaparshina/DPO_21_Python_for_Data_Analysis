{
  "nbformat": 4,
  "nbformat_minor": 0,
  "metadata": {
    "colab": {
      "name": "13_problems.ipynb",
      "provenance": [],
      "collapsed_sections": []
    },
    "kernelspec": {
      "name": "python3",
      "display_name": "Python 3"
    },
    "language_info": {
      "name": "python"
    }
  },
  "cells": [
    {
      "cell_type": "markdown",
      "source": [
        "# Python для автоматизации и анализа данных\n",
        "\n",
        "## Занятие 13 — 09/12/2021\n",
        "\n",
        "## Часть 1 — web-scraping (продолжение)\n",
        "\n",
        "*Автор: Анастасия Паршина, НИУ ВШЭ* \n",
        "\n",
        "E-mail: a.a.parshina@ya.ru"
      ],
      "metadata": {
        "id": "nUOeYdSBECpY"
      }
    },
    {
      "cell_type": "code",
      "source": [
        "import re\n",
        "import requests\n",
        "from bs4 import BeautifulSoup \n",
        "from time import sleep\n",
        "import pandas as pd"
      ],
      "metadata": {
        "id": "FH6SwFw_ESYJ"
      },
      "execution_count": null,
      "outputs": []
    },
    {
      "cell_type": "markdown",
      "source": [
        "### Задание 1\n",
        "\n",
        "Дана ссылка на первую страницу [каталога книжных новинок](https://www.bgshop.ru/catalog/group?id=444&page=1&sort=1&instock=). Соберите информацию о книгах с первых трех страниц. "
      ],
      "metadata": {
        "id": "rXRgPuMgEf3g"
      }
    },
    {
      "cell_type": "code",
      "source": [
        ""
      ],
      "metadata": {
        "id": "QjrAzE7FXqNP"
      },
      "execution_count": null,
      "outputs": []
    },
    {
      "cell_type": "markdown",
      "source": [
        "### Задание 2\n",
        "\n",
        "Дана ссылка на [сайт газеты \"Московский комсомолец\"](https://www.mk.ru/news/). Соберите ссылки на новости первой страницы, заголовок. Пройдите по ссылкам и соберите количество просмотров, хэштеги статьи и время публикации. "
      ],
      "metadata": {
        "id": "J_Nf7VP0F80n"
      }
    },
    {
      "cell_type": "code",
      "source": [
        ""
      ],
      "metadata": {
        "id": "mDbk7n6HXtrg"
      },
      "execution_count": null,
      "outputs": []
    },
    {
      "cell_type": "markdown",
      "source": [
        "[Пример статьи без тегов](https://www.mk.ru/social/2021/12/09/passazhiry-bez-qrkodov-mogut-lishitsya-kompensacii-za-kuplennye-bilety.html)"
      ],
      "metadata": {
        "id": "zczg4kbOIJHr"
      }
    },
    {
      "cell_type": "code",
      "source": [
        ""
      ],
      "metadata": {
        "id": "CEEnP0KIXvrH"
      },
      "execution_count": null,
      "outputs": []
    },
    {
      "cell_type": "markdown",
      "source": [
        "## Часть 2 — Работа с API YouTube\n",
        "\n",
        "API (Application Programming Interface или интерфейс программирования приложений) — это совокупность инструментов и функций в виде интерфейса для создания новых приложений, благодаря которому одна программа будет взаимодействовать с другой.  \n",
        "\n",
        "Подробнее [тут](https://habr.com/ru/post/464261/).\n",
        "\n",
        "На основе лекций курса Ротмистрова А.В. и Жучковой С.В. [Методология и методы исследований в социологии: современные методы анализа социологических данных](https://www.hse.ru/edu/courses/375301084).\n",
        "\n",
        "\n",
        "[Документация к API YouTube](https://developers.google.com/youtube/v3/docs?hl=ru)"
      ],
      "metadata": {
        "id": "wIGBwI48OLhG"
      }
    },
    {
      "cell_type": "code",
      "source": [
        "import googleapiclient.discovery as api"
      ],
      "metadata": {
        "id": "fJomdkixNVRX"
      },
      "execution_count": null,
      "outputs": []
    },
    {
      "cell_type": "code",
      "source": [
        "#youtube = api.build('youtube', 'v3', developerKey = 'ВАШ КЛЮЧ')\n"
      ],
      "metadata": {
        "id": "s7ROrxC-QTkX"
      },
      "execution_count": null,
      "outputs": []
    },
    {
      "cell_type": "code",
      "source": [
        ""
      ],
      "metadata": {
        "id": "Nab9uG2-X42B"
      },
      "execution_count": null,
      "outputs": []
    }
  ]
}
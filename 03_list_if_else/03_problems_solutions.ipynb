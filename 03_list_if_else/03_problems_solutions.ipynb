{
 "cells": [
  {
   "cell_type": "markdown",
   "metadata": {},
   "source": [
    "# Python для автоматизации и анализа данных\n",
    "\n",
    "## Занятие 3 — 28/10/2021\n",
    "\n",
    "*Материалы взяты из курсов Тамбовцевой Аллы «Основы программирования в Python» и Рогович Татьяны «Python для исследователей».*"
   ]
  },
  {
   "cell_type": "markdown",
   "metadata": {},
   "source": [
    "## Часть 1: повторение списков, `.split()` и `.join()`\n",
    "\n"
   ]
  },
  {
   "cell_type": "markdown",
   "metadata": {},
   "source": [
    "### Задача 1\n",
    "\n",
    "Напишите программу, которая запрашивает у пользователя его фамилию, имя, отчество, введенные в одну строчку через пробел, и выводит на экран сообщения:\n",
    "\n",
    "    Ваша фамилия: фамилия\n",
    "    Ваше имя: имя\n",
    "    Ваше отчество: отчество\n",
    "\n",
    "**Пример:**\n",
    "\n",
    "*Входные данные:*\n",
    "\n",
    "    Введите Ваши ФИО: Тамбовцева Алла Андреевна\n",
    "\n",
    "*Выходные данные:*\n",
    "\n",
    "    Ваша фамилия: Тамбовцева\n",
    "    Ваше имя: Алла\n",
    "    Ваше отчество: Андреевна"
   ]
  },
  {
   "cell_type": "code",
   "execution_count": 1,
   "metadata": {},
   "outputs": [
    {
     "name": "stdout",
     "output_type": "stream",
     "text": [
      "X часов:6\n",
      "6\n",
      "True\n",
      "False\n",
      "True\n"
     ]
    }
   ],
   "source": [
    "fio = input(\"Введите Ваши ФИО: \")\n",
    "fio_list = fio.split()\n",
    "f, i, o = fio_list  # множественное присваивание\n",
    "print(\"Ваша фамилия:\", f)\n",
    "print(\"Ваше имя:\", i)\n",
    "print(\"Ваше отчество:\", o)"
   ]
  },
  {
   "cell_type": "markdown",
   "metadata": {},
   "source": [
    "### Задача 2\n",
    "\n",
    "Напишите программу, которая берет строку \"1; 2; 3; 100\" и возвращает:\n",
    "\n",
    "* список из целых чисел\n",
    "* список из чисел с плавающей точкой"
   ]
  },
  {
   "cell_type": "code",
   "execution_count": 1,
   "metadata": {},
   "outputs": [
    {
     "data": {
      "text/plain": [
       "[1, 2, 3, 100]"
      ]
     },
     "execution_count": 1,
     "metadata": {},
     "output_type": "execute_result"
    }
   ],
   "source": [
    "s = \"1; 2; 3; 100\"\n",
    "s_list = s.split(\";\")\n",
    "int_nums = []\n",
    "for i in s_list:\n",
    "    num = int(i)\n",
    "    int_nums.append(num)\n",
    "int_nums"
   ]
  },
  {
   "cell_type": "markdown",
   "metadata": {},
   "source": [
    "Или более компактно и эффективно, используя списковые включения:"
   ]
  },
  {
   "cell_type": "code",
   "execution_count": 2,
   "metadata": {},
   "outputs": [
    {
     "data": {
      "text/plain": [
       "[1, 2, 3, 100]"
      ]
     },
     "execution_count": 2,
     "metadata": {},
     "output_type": "execute_result"
    }
   ],
   "source": [
    "s = \"1; 2; 3; 100\"\n",
    "s_list = s.split(\";\")\n",
    "int_nums = [int(i) for i in s_list]\n",
    "int_nums"
   ]
  },
  {
   "cell_type": "markdown",
   "metadata": {},
   "source": [
    "То же самое, но для чисел с плавающей точкой:"
   ]
  },
  {
   "cell_type": "code",
   "execution_count": 3,
   "metadata": {},
   "outputs": [
    {
     "data": {
      "text/plain": [
       "[1.0, 2.0, 3.0, 100.0]"
      ]
     },
     "execution_count": 3,
     "metadata": {},
     "output_type": "execute_result"
    }
   ],
   "source": [
    "s = \"1; 2; 3; 100\"\n",
    "s_list = s.split(\";\")\n",
    "f_nums = []\n",
    "for i in s_list:\n",
    "    num = float(i)\n",
    "    f_nums.append(num)\n",
    "f_nums"
   ]
  },
  {
   "cell_type": "markdown",
   "metadata": {},
   "source": [
    "Через списковые включения:"
   ]
  },
  {
   "cell_type": "code",
   "execution_count": 4,
   "metadata": {},
   "outputs": [
    {
     "data": {
      "text/plain": [
       "[1.0, 2.0, 3.0, 100.0]"
      ]
     },
     "execution_count": 4,
     "metadata": {},
     "output_type": "execute_result"
    }
   ],
   "source": [
    "s = \"1; 2; 3; 100\"\n",
    "s_list = s.split(\";\")\n",
    "f_nums = [float(i) for i in s_list]\n",
    "f_nums"
   ]
  },
  {
   "cell_type": "markdown",
   "metadata": {},
   "source": [
    "### Задача 3\n",
    "\n",
    "Напишите программу, которая запрашивает у пользователя номер мобильного телефона, введенный через дефис, а возвращает номер, записанный без дефисов и пробелов.\n",
    "\n",
    "*Входные данные:*\n",
    "\n",
    "    8-900-123-45-67\n",
    "\n",
    "*Выходные данные:*\n",
    "\n",
    "    89001234567"
   ]
  },
  {
   "cell_type": "code",
   "execution_count": 5,
   "metadata": {},
   "outputs": [
    {
     "name": "stdout",
     "output_type": "stream",
     "text": [
      "8-900-123-45-67\n",
      "89001234567\n"
     ]
    }
   ],
   "source": [
    "tel = input()\n",
    "tel_list = tel.split(\"-\")\n",
    "newtel = \"\".join(tel_list)\n",
    "print(newtel)"
   ]
  },
  {
   "cell_type": "markdown",
   "metadata": {},
   "source": [
    "### Задача 4\n",
    "\n",
    "Напишите программу, которая принимает на вход список слов такого вида:\n",
    "\n",
    "    words = [\"Speak \",\"to\", \"me \", \"of\", \"Florence\" ,\"And \", \"of\", \"the\", \"Renaissance\"]\n",
    "\n",
    "а возвращает список\n",
    "\n",
    "    words_clean = [\"speak\", \"to\", \"me\", \"of\", \"florence\", \"and\", \"of\", \"the\", \"renaissance\"]\n",
    "\n",
    "Другими словами, программа убирает пробелы в словах и приводит все слова к нижнему регистру.\n",
    "\n",
    "**Подсказка:** запросите `help()`  по  методам `.strip()` и `.lower()`."
   ]
  },
  {
   "cell_type": "code",
   "execution_count": 6,
   "metadata": {},
   "outputs": [
    {
     "data": {
      "text/plain": [
       "['speak', 'to', 'me', 'of', 'florence', 'and', 'of', 'the', 'renaissance']"
      ]
     },
     "execution_count": 6,
     "metadata": {},
     "output_type": "execute_result"
    }
   ],
   "source": [
    "words = [\"Speak \",\"to\", \"me \", \"of\", \n",
    "         \"Florence\" ,\"And \", \"of\", \"the\", \"Renaissance\"]\n",
    "\n",
    "words_clean = []\n",
    "for w in words:\n",
    "    low = w.lower()\n",
    "    stripped = low.strip()\n",
    "    words_clean.append(stripped)\n",
    "words_clean"
   ]
  },
  {
   "cell_type": "markdown",
   "metadata": {},
   "source": [
    "Или совсем компактный вариант, используя списковые включения (да-да, методы можно применять, «наслаивая» друг на друга, то есть ставя точку и добавляя новый метод)."
   ]
  },
  {
   "cell_type": "code",
   "execution_count": 7,
   "metadata": {},
   "outputs": [
    {
     "data": {
      "text/plain": [
       "['speak', 'to', 'me', 'of', 'florence', 'and', 'of', 'the', 'renaissance']"
      ]
     },
     "execution_count": 7,
     "metadata": {},
     "output_type": "execute_result"
    }
   ],
   "source": [
    "words_clean = [w.lower().strip() for w in words_clean]\n",
    "words_clean"
   ]
  },
  {
   "cell_type": "markdown",
   "metadata": {},
   "source": [
    "## Часть 2: условные конструкции\n",
    "\n",
    "\n"
   ]
  },
  {
   "cell_type": "markdown",
   "metadata": {},
   "source": [
    "### Задача 1\n",
    "Напишите программу, которая просит пользователя ввести положительное число, и если пользователь вводит положительное число, выводит на экран сообщение \"Молодец!\", если нет – \"Это не положительное число.\".\n",
    "\n",
    "Считайте, что пользователь в любом случае вводит числа, а не какой-то текст."
   ]
  },
  {
   "cell_type": "code",
   "execution_count": 10,
   "metadata": {},
   "outputs": [
    {
     "name": "stdout",
     "output_type": "stream",
     "text": [
      "Введите положительное число: 3\n",
      "Молодец!\n"
     ]
    }
   ],
   "source": [
    "n = float(input(\"Введите положительное число: \"))\n",
    "if n > 0:\n",
    "    print(\"Молодец!\")\n",
    "else:\n",
    "    print(\"Это не положительное число.\")"
   ]
  },
  {
   "cell_type": "markdown",
   "metadata": {},
   "source": [
    "### Задание 2\n",
    "Даны три целых числа. Определите, сколько среди них совпадающих. Программа должна вывести одно из чисел: 3 (если все совпадают), 2 (если два совпадает) или 0 (если все числа различны).\n",
    "\n",
    "*Входные данные:*\n",
    "\n",
    "    Вводятся три целых числа\n",
    "\n",
    "*Выходные данные:*\n",
    "\n",
    "    Целое число\n"
   ]
  },
  {
   "cell_type": "code",
   "execution_count": 13,
   "metadata": {},
   "outputs": [
    {
     "name": "stdout",
     "output_type": "stream",
     "text": [
      "1\n",
      "2\n",
      "3\n",
      "0\n"
     ]
    }
   ],
   "source": [
    "a = int(input())\n",
    "b = int(input())\n",
    "c = int(input())\n",
    "\n",
    "if a == b == c:\n",
    "    print(3)\n",
    "elif a == b or a == c or b == c:\n",
    "    print(2)\n",
    "else:\n",
    "    print(0)"
   ]
  },
  {
   "cell_type": "markdown",
   "metadata": {},
   "source": [
    "### Задача 3\n",
    "\n",
    "У питона есть набор любимых чисел.\n",
    "\n",
    "    favorites = [3, 7, 11, 23, 18, 48, 81]\n",
    "\n",
    "Напишите программу, которая просит пользователя ввести целое число, и если оно нравится питону, на экран будет выводиться сообщение: \"Мое любимое число!\", если нет – \"Эх, ну почему?\"."
   ]
  },
  {
   "cell_type": "code",
   "execution_count": 1,
   "metadata": {},
   "outputs": [
    {
     "name": "stdout",
     "output_type": "stream",
     "text": [
      "Введите целое число: 4\n",
      "Эх, ну почему?\n"
     ]
    }
   ],
   "source": [
    "favorites = [3, 7, 11, 23, 18, 48, 81]\n",
    "\n",
    "k = int(input(\"Введите целое число: \"))\n",
    "\n",
    "if k in favorites:\n",
    "    print(\"Моё любимое число!\")\n",
    "else:\n",
    "    print(\"Эх, ну почему?\")"
   ]
  },
  {
   "cell_type": "code",
   "execution_count": 2,
   "metadata": {},
   "outputs": [
    {
     "name": "stdout",
     "output_type": "stream",
     "text": [
      "4\n",
      "Эх, ну почему?\n"
     ]
    }
   ],
   "source": [
    "x = int(input())\n",
    "ind = 0\n",
    "while ind != len(favorites):\n",
    "    if favorites[ind] == x:\n",
    "        print('Мое любимое число!')\n",
    "        break\n",
    "    ind = ind + 1\n",
    "else:  # else находится на том же уровне отступа, что и while, поэтому относится именно к циклу, а не к условию внутри цикла\n",
    "    print('Эх, ну почему?')"
   ]
  },
  {
   "cell_type": "code",
   "execution_count": 7,
   "metadata": {},
   "outputs": [
    {
     "name": "stdout",
     "output_type": "stream",
     "text": [
      "81\n",
      "Мое любимое число!\n"
     ]
    }
   ],
   "source": [
    "x = int(input())\n",
    "for i in favorites:\n",
    "    if i == x:\n",
    "        print('Мое любимое число!')\n",
    "        break\n",
    "else: \n",
    "    print('Эх, ну почему?')"
   ]
  },
  {
   "cell_type": "markdown",
   "metadata": {},
   "source": [
    "### Задача 4\n",
    "\n",
    "В магазине проходит акция:\n",
    "\n",
    "На все товары дешевле 1000 рублей скидка 15%\n",
    "На все товары дороже 1000, но дешевле 5000 рублей скидка 20%\n",
    "На все товары дороже 5000 рублей скидка 25%\n",
    "\n",
    "*Входные данные:*\n",
    "\n",
    "    Целое неотрицательное число - цена товара в рублях\n",
    "\n",
    "*Выходные данные:*\n",
    "\n",
    "    Целое неотрицательное число - скидка на товар в рублях"
   ]
  },
  {
   "cell_type": "code",
   "execution_count": null,
   "metadata": {},
   "outputs": [],
   "source": [
    "price = int(input())\n",
    "\n",
    "if price > 5000:\n",
    "    print(price * 0.25)\n",
    "elif price > 1000:\n",
    "    print(price * 0.20)\n",
    "else:\n",
    "    print(price * 0.15)"
   ]
  }
 ],
 "metadata": {
  "kernelspec": {
   "display_name": "Python 3",
   "language": "python",
   "name": "python3"
  },
  "language_info": {
   "codemirror_mode": {
    "name": "ipython",
    "version": 3
   },
   "file_extension": ".py",
   "mimetype": "text/x-python",
   "name": "python",
   "nbconvert_exporter": "python",
   "pygments_lexer": "ipython3",
   "version": "3.8.5"
  }
 },
 "nbformat": 4,
 "nbformat_minor": 4
}

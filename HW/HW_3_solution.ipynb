{
 "cells": [
  {
   "cell_type": "markdown",
   "metadata": {},
   "source": [
    "# Python для автоматизации и анализа данных\n",
    "\n",
    "## Домашнее задание 3 (дедлайн: 21 ноября 2021 23:59 (мск))\n",
    "\n",
    "*Если работа сдается после дедлайна, то за каждый день просрочки отнимается 1 балл (из 10 максимально возможных)*\n",
    "\n",
    "**Загружать работу на дропбокс: https://www.dropbox.com/request/NvDgUDsgkJJEAk4qrrk8** в виде `ipynb`-файла. Получить `ipynb`-файл можно, выбрав в Jupyter пункт меню *File → Download as... → IPython Notebook (.ipynb)*.\n",
    "\n",
    "*Материалы взяты из курсов Тамбовцевой Аллы «Основы программирования в Python» и Рогович Татьяны «Python для исследователей», а также онлайн-курса «Python как иностранный»*"
   ]
  },
  {
   "cell_type": "markdown",
   "metadata": {},
   "source": [
    "## Задание 1 (2 балла)\n",
    "\n",
    "Руководитель службы доставки хочет найти лучших курьеров среди своих подчинённых — курьера с самой высокой средней оценкой от клиентов.\n",
    "\n",
    "По результатам каждой доставки клиенты ставили курьерам оценки, и у руководителя есть записи о результатах работы каждого курьера по шкале от 1 до 5, где 1 — худшая доставка, 5 — лучшая.\n",
    "\n",
    "Помогите руководителю, прочитав записи о результатах доставки и найдя лучшего курьера в компании.\n",
    "\n",
    "**ФОРМАТ ВВОДА**\n",
    "\n",
    "+ Строки, состоящие из имени курьера и оценки за доставку. Оценка за доставку отделена от имени курьера запятой и пробелом и может быть только целым числом от 1 до 5.\n",
    "\n",
    "+ После всех строк с именами идёт строка “конец”, которая означает окончание ввода.\n",
    "\n",
    "**ФОРМАТ ВЫВОДА**\n",
    "\n",
    "+ Строка с именем лучшего курьера, его средним баллом и списком всех выставленных ему оценок.\n",
    "\n",
    "+ Имя отделено от среднего балла запятой и пробелом, средний балл отделён от списка оценок двоеточием с пробелом. \n",
    "\n",
    "+ Оценки в списке оценок выводятся через запятую и пробел. \n",
    "\n",
    "+ В конце строки стоит точка."
   ]
  },
  {
   "cell_type": "code",
   "execution_count": 2,
   "metadata": {},
   "outputs": [
    {
     "name": "stdout",
     "output_type": "stream",
     "text": [
      "Сэм, 5\n",
      "Сэм, 4\n",
      "Лиза, 3\n",
      "Клифф, 1\n",
      "Лиза, 4\n",
      "Сэм, 5\n",
      "конец\n"
     ]
    }
   ],
   "source": [
    "score = {} # Сделаем пустой словарь, куда будем складывать наши входные данные типа 'ИМЯ, ЧИСЛО'\n",
    "\n",
    "while True:\n",
    "    name = input()      # Вводим имя и балл\n",
    "    if name == 'конец': # Если на ввод подается слово \"конец\", \n",
    "        break           # то выходим из цикла\n",
    "    \n",
    "    name = name.split(', ')\n",
    "    \n",
    "    key = name[0]             # Аналогично задаче про виниловые пластинки (выше)\n",
    "    score.setdefault(key, [])\n",
    "    score[key].append(int(name[1]))\n",
    "    \n",
    "    #print(score) # Можем каждый раз печатать словарь, чтобы понимать, что все хорошо и программа работает"
   ]
  },
  {
   "cell_type": "code",
   "execution_count": 3,
   "metadata": {},
   "outputs": [
    {
     "name": "stdout",
     "output_type": "stream",
     "text": [
      "{'Сэм': [5, 4, 5], 'Лиза': [3, 4], 'Клифф': [1]}\n"
     ]
    }
   ],
   "source": [
    "print(score) # Смотрим на наш словарь"
   ]
  },
  {
   "cell_type": "code",
   "execution_count": 4,
   "metadata": {},
   "outputs": [
    {
     "name": "stdout",
     "output_type": "stream",
     "text": [
      "[('Сэм', 4.666666666666667, [5, 4, 5]), ('Лиза', 3.5, [3, 4]), ('Клифф', 1.0, [1])]\n",
      "[4.666666666666667, 3.5, 1.0]\n"
     ]
    }
   ],
   "source": [
    "total = []     # Делаем пустой список, куда будем добавлять кортежи типа (ИМЯ, СР.ЗНАЧ, СПИСОК ОЦЕНОК)\n",
    "max_score = [] # Делаем пустой список, куда будем добавлять только СР.ЗНАЧ\n",
    "\n",
    "for k, v in score.items():  # Для каждой пары ключ-значение \n",
    "    total.append((k, sum(v)/len(v), v)) \n",
    "    max_score.append(sum(v)/len(v))\n",
    "\n",
    "print(total)\n",
    "print(max_score)"
   ]
  },
  {
   "cell_type": "code",
   "execution_count": 5,
   "metadata": {},
   "outputs": [
    {
     "data": {
      "text/plain": [
       "4.666666666666667"
      ]
     },
     "execution_count": 5,
     "metadata": {},
     "output_type": "execute_result"
    }
   ],
   "source": [
    "max(max_score) # Нашли максимальное значение"
   ]
  },
  {
   "cell_type": "code",
   "execution_count": 6,
   "metadata": {},
   "outputs": [
    {
     "name": "stdout",
     "output_type": "stream",
     "text": [
      "[0]\n"
     ]
    }
   ],
   "source": [
    "# Что если лучших курьеров несколько?? (работает также, если он один)\n",
    "\n",
    "items = []\n",
    "for i in range(len(max_score)):        # Для каждого индекса списка max_score\n",
    "    if max_score[i] == max(max_score): # Если элемент с этим индексом (max_score[i]) равен max(max_score),\n",
    "        items.append(i)                # добавим его в новый список\n",
    "print(items) # Имеем список с указанием индексов лучших курьеров"
   ]
  },
  {
   "cell_type": "code",
   "execution_count": 7,
   "metadata": {},
   "outputs": [
    {
     "name": "stdout",
     "output_type": "stream",
     "text": [
      "Сэм, 4.666666666666667: 5, 4, 5\n"
     ]
    }
   ],
   "source": [
    "for i in items: \n",
    "    name = total[i][0] # Обращаемся к списку total и вытаскиваем оттуда элементы с индексами из items\n",
    "    score = total[i][1]\n",
    "    all_score = ', '.join(list(map(str, total[i][2])))\n",
    "    print(f'{name}, {score}: {all_score}')"
   ]
  },
  {
   "cell_type": "markdown",
   "metadata": {},
   "source": [
    "## Задание 2 (1 балл)\n",
    "\n",
    "Сотрудники метеостанции собирают список наблюдений за погодой за день и хотят посчитать минимальное, максимальное, среднее значения температуры и амплитуду. Амплитудой температур называется разница между максимальным и минимальным значением температуры за день. Напишите функцию, которая поможет сотрудникам. \n",
    "\n",
    "**ТРЕБУЕМАЯ ФУНКЦИЯ** \n",
    "\n",
    "+ Функция weather_stat, которая принимает в качестве параметра список вещественных чисел observations. \n",
    "+ Функция должна вернуть минимальное, максимальное, среднее значения в списке и амплитуду.\n",
    "\n",
    "Пример списка: \n",
    "\n",
    "    observations = [-77.8874, -64.1202, 29.6946, 73.6522, 69.3968, -13.9534, -82.6001, 79.1074, -7.3194, 4.3518, 6.925]"
   ]
  },
  {
   "cell_type": "code",
   "execution_count": 8,
   "metadata": {},
   "outputs": [],
   "source": [
    "# Разбираемся с тем, что от нас хотят, на частном примере\n",
    "# На вход подается список\n",
    "observations = [-77.8874, -64.1202, 29.6946, 73.6522, 69.3968, -13.9534, -82.6001, 79.1074, -7.3194, 4.3518, 6.925]"
   ]
  },
  {
   "cell_type": "code",
   "execution_count": 9,
   "metadata": {},
   "outputs": [
    {
     "name": "stdout",
     "output_type": "stream",
     "text": [
      "-82.6001\n",
      "79.1074\n",
      "1.567936363636364\n",
      "161.70749999999998\n"
     ]
    }
   ],
   "source": [
    "min_temp = min(observations) # Находим минимальное значение по списку\n",
    "print(min_temp)\n",
    "\n",
    "max_temp = max(observations) # Находим максимальное значение по списку\n",
    "print(max_temp)\n",
    "\n",
    "mean_temp = sum(observations)/len(observations) # Находим среднее значение по списку\n",
    "print(mean_temp)\n",
    "\n",
    "amplitude = max_temp - min_temp # Находим амплитуду\n",
    "print(amplitude)"
   ]
  },
  {
   "cell_type": "code",
   "execution_count": 10,
   "metadata": {},
   "outputs": [],
   "source": [
    "# Заворачиваем все это в функцию\n",
    "def weather_stat(observations):\n",
    "    min_temp = min(observations)\n",
    "    max_temp = max(observations)\n",
    "    mean_temp = sum(observations)/len(observations)\n",
    "    amplitude = max_temp - min_temp\n",
    "    \n",
    "    return min_temp, max_temp, mean_temp, amplitude"
   ]
  },
  {
   "cell_type": "code",
   "execution_count": 12,
   "metadata": {},
   "outputs": [
    {
     "data": {
      "text/plain": [
       "(-82.6001, 79.1074, 1.567936363636364, 161.70749999999998)"
      ]
     },
     "execution_count": 12,
     "metadata": {},
     "output_type": "execute_result"
    }
   ],
   "source": [
    "# Проверяем ее\n",
    "weather_stat(observations)"
   ]
  },
  {
   "cell_type": "markdown",
   "metadata": {},
   "source": [
    "## Задание 3 (1 балл)\n",
    "\n",
    "Напишите функцию `ave_mark(d)`, которая принимает на вход словарь `d`, ключами которого являются имена студентов, а значениями ‒ их оценки по курсу, и возвращает среднюю оценку по этому курсу без каких-либо округлений. Библиотечные функции `mean()`использовать нельзя, обычную функцию `sum()` ‒ можно. Функция не должна ничего печатать (выводить на экран).\n",
    "\n",
    "**Пример работы функции:**\n",
    "\n",
    "*Применение:*\n",
    "\n",
    "    ave_mark({'Элеонора': 8, 'Адам': 7, 'Урсула': 6, 'Альбер': 10})\n",
    "    \n",
    "*Результат:*    \n",
    "\n",
    "    7.75"
   ]
  },
  {
   "cell_type": "code",
   "execution_count": 13,
   "metadata": {},
   "outputs": [
    {
     "data": {
      "text/plain": [
       "dict_values([8, 7, 6, 10])"
      ]
     },
     "execution_count": 13,
     "metadata": {},
     "output_type": "execute_result"
    }
   ],
   "source": [
    "# на примере: \n",
    "\n",
    "d = {'Элеонора': 8, 'Адам': 7, 'Урсула': 6, 'Альбер': 10}\n",
    "\n",
    "d.values()"
   ]
  },
  {
   "cell_type": "code",
   "execution_count": 15,
   "metadata": {},
   "outputs": [
    {
     "data": {
      "text/plain": [
       "7.75"
      ]
     },
     "execution_count": 15,
     "metadata": {},
     "output_type": "execute_result"
    }
   ],
   "source": [
    "sum(d.values())/len(d.values()) # среднее значение"
   ]
  },
  {
   "cell_type": "code",
   "execution_count": 16,
   "metadata": {},
   "outputs": [
    {
     "data": {
      "text/plain": [
       "7.75"
      ]
     },
     "execution_count": 16,
     "metadata": {},
     "output_type": "execute_result"
    }
   ],
   "source": [
    "# делаем функцию\n",
    "def ave_mark(d):\n",
    "    return sum(d.values())/len(d.values())\n",
    "\n",
    "ave_mark({'Элеонора': 8, 'Адам': 7, 'Урсула': 6, 'Альбер': 10})"
   ]
  },
  {
   "cell_type": "markdown",
   "metadata": {},
   "source": [
    "## Задание 4 (2 балла)\n",
    "\n",
    "Питон Петя решил сделать хорошее дело ‒ раздать те книги, которые у него хранятся в нескольких экземлярах. Напишите функцию `to_give(L)`, которая принимает на вход список названий книг `L` (строки), и возвращает отсортированный по алфавиту список книг, которые нужно отдать(то есть те книги, которые в списке встречаются более 1 раза). Функция не должна ничего печатать (выводить на экран).\n",
    "\n",
    "*Подсказка:* вспомните про метод `.count()` для списков и про функцию `sorted()`.\n",
    "\n",
    "**Примеры работы функции:**\n",
    "\n",
    "*Применение:*\n",
    "\n",
    "    to_give(['Хобби доктора Травена.', 'Хобби доктора Травена.', 'Змеелов.', 'Маленький принц.', \n",
    "    'Питоны о Питонах. Автобиография', 'Python для детей.', 'Питон для детей.', 'Кролики и удавы.', \n",
    "    'Маленький принц.', 'Удавы и питоны. Уход и содержание.', 'Питон для детей.'])\n",
    "    \n",
    "*Результат:*    \n",
    "\n",
    "    ['Маленький принц.', 'Питон для детей.','Хобби доктора Травена.']\n",
    "    \n",
    "*Применение:*\n",
    "\n",
    "    to_give(['Змеелов.', 'Маленький принц.','Хобби доктора Травена.'])\n",
    "    \n",
    "*Результат:*    \n",
    "\n",
    "    []    "
   ]
  },
  {
   "cell_type": "code",
   "execution_count": 20,
   "metadata": {},
   "outputs": [
    {
     "data": {
      "text/plain": [
       "['Маленький принц.', 'Питон для детей.', 'Хобби доктора Травена.']"
      ]
     },
     "execution_count": 20,
     "metadata": {},
     "output_type": "execute_result"
    }
   ],
   "source": [
    "def to_give(L):\n",
    "    give = []\n",
    "    for i in L:\n",
    "        if L.count(i) > 1:\n",
    "            give.append(i)\n",
    "            del L[L.index(i)] # убираем элемент, чтобы не посчитать его снова\n",
    "    return sorted(give)\n",
    "\n",
    "to_give(['Хобби доктора Травена.', 'Хобби доктора Травена.', 'Змеелов.', 'Маленький принц.', \n",
    "'Питоны о Питонах. Автобиография', 'Python для детей.', 'Питон для детей.', 'Кролики и удавы.', \n",
    "'Маленький принц.', 'Удавы и питоны. Уход и содержание.', 'Питон для детей.'])"
   ]
  },
  {
   "cell_type": "markdown",
   "metadata": {},
   "source": [
    "## Задание 5 (2 балла)\n",
    "\n",
    "Дан словарь `cols` с соответствиями цветов при переводе изображения в негатив (очень примерно):\n",
    "\n",
    "    cols = {'white': 'black', 'red' : 'green', 'yellow': 'blue'}\n",
    "\n",
    "Напишите функцию `RevertCol(L)`, которая принимает на вход список цветов `L`, используемых в изображении, и возвращает список цветов этого изображения, переведенного в негатив. Словарь `cols` менять нельзя! Функция не должна ничего печатать (выводить на экран).\n",
    "\n",
    "**Примеры работы функции:**\n",
    "\n",
    "*Применение:*\n",
    "\n",
    "    RevertCol(['white', 'red', 'black', 'green', 'yellow', 'blue'])\n",
    "    \n",
    "*Результат:*    \n",
    "\n",
    "     ['black', 'green', 'white', 'red', 'blue', 'yellow']"
   ]
  },
  {
   "cell_type": "code",
   "execution_count": 2,
   "metadata": {},
   "outputs": [],
   "source": [
    "cols = {'white': 'black', 'red' : 'green', 'yellow': 'blue'}\n",
    "L = ['white', 'red', 'black', 'green', 'yellow', 'blue']"
   ]
  },
  {
   "cell_type": "code",
   "execution_count": 27,
   "metadata": {},
   "outputs": [
    {
     "data": {
      "text/plain": [
       "['black', 'green', 'white', 'red', 'blue', 'yellow']"
      ]
     },
     "execution_count": 27,
     "metadata": {},
     "output_type": "execute_result"
    }
   ],
   "source": [
    "reverse_L = []\n",
    "for i in L:     # можем обратиться к каждому элементу в списке и проверить, есть ли он в какой-либо паре ключ-значение\n",
    "    for j in cols.items():  # j тут представляет собой кортежи с парами ключ-значение\n",
    "        if i in j:          # если так получилось, что i в этом кортеже есть, то узнаем его индекс в нем j.index(i)\n",
    "            reverse_L.append(j[j.index(i) - 1]) # и добавляем другой элемент из кортежа по индексу j.index(i)- 1\n",
    "reverse_L"
   ]
  },
  {
   "cell_type": "code",
   "execution_count": 30,
   "metadata": {},
   "outputs": [
    {
     "data": {
      "text/plain": [
       "['black', 'green', 'white', 'red', 'blue', 'yellow']"
      ]
     },
     "execution_count": 30,
     "metadata": {},
     "output_type": "execute_result"
    }
   ],
   "source": [
    "def RevertCol(L):\n",
    "    reverse_L = []\n",
    "    for i in L:\n",
    "        for j in cols.items():\n",
    "            if i in j:\n",
    "                reverse_L.append(j[j.index(i) - 1])\n",
    "    return reverse_L\n",
    "\n",
    "RevertCol(['white', 'red', 'black', 'green', 'yellow', 'blue'])"
   ]
  },
  {
   "cell_type": "code",
   "execution_count": 4,
   "metadata": {},
   "outputs": [
    {
     "data": {
      "text/plain": [
       "False"
      ]
     },
     "execution_count": 4,
     "metadata": {},
     "output_type": "execute_result"
    }
   ],
   "source": [
    "L[0:2] == cols.keys()"
   ]
  },
  {
   "cell_type": "markdown",
   "metadata": {},
   "source": [
    "## Задание 6 (2 балла)\n",
    "Напишите функцию `eq_solve()`, которая принимает на вход строку с квадратным уравнением (без пробелов между знаками и со всеми коэффициентами, записанными явно, включая 1 и -1) и решает квадратное уравнение:\n",
    "\n",
    "  * если дискриминант отрицательный, печатает строку с предупреждением `Уравнение имеет комплексные корни` и возвращает пустой список;\n",
    "  * если дискриминант равен нулю, печатает строку `Уравнение имеет одно решение` и возвращает список из одного решения;\n",
    "  * если дискриминант больше нуля, печатает строку `Уравнение имеет два решения` и возвращает список из двух решений.\n",
    "  \n",
    "Считайте, что квадратное уравнение уже приведено к стандартному виду:\n",
    "\n",
    "$$ax^2+bx+c=0$$\n",
    "\n",
    "**Нельзя:** использовать библиотечные функции (кроме `sqrt()` из модуля `math`), регулярные выражения. \n",
    "\n",
    "**Можно:** создавать вспомогательные функции внутри основной функции `eq_solve()`, использовать условия, циклы, методы для строк, списков и прочие объекты, обсуждаемые на лекциях.\n",
    "\n",
    "**Примеры работы функции:**\n",
    "\n",
    "*Применение:*\n",
    "\n",
    "    eq_solve('1x^2+6x+9=0')\n",
    "    \n",
    "*Вывод на экран:*    \n",
    "\n",
    "    Уравнение имеет одно решение\n",
    "    \n",
    "*Возвращаемый результат:*\n",
    "\n",
    "    [-3.0]\n",
    "    \n",
    "*Применение:*\n",
    "\n",
    "    eq_solve('-2x^2-6x+9=0')\n",
    "    \n",
    "*Вывод на экран:*    \n",
    "\n",
    "    Уравнение имеет два решения\n",
    "    \n",
    "*Возвращаемый результат:*\n",
    "\n",
    "    [-4.098076211353316, 1.098076211353316]\n",
    "\n",
    "*Применение:*\n",
    "\n",
    "    eq_solve('3x^2-1x+10=0')\n",
    "    \n",
    "*Вывод на экран:*    \n",
    "\n",
    "    Уравнение имеет только комплексные корни\n",
    "    \n",
    "*Возвращаемый результат:*\n",
    "\n",
    "    []"
   ]
  },
  {
   "cell_type": "code",
   "execution_count": 71,
   "metadata": {},
   "outputs": [
    {
     "name": "stdout",
     "output_type": "stream",
     "text": [
      "1 6 9\n"
     ]
    }
   ],
   "source": [
    "eq = '1x^2+6x+9=0' # попробуем на примере одного уравнения вытащить a, b и c\n",
    "\n",
    "for i in '=^x':\n",
    "    eq = eq.replace(i, ' ')\n",
    "\n",
    "eq = eq.split()\n",
    "a, b, c = int(eq[0]), int(eq[1][1:]), int(eq[2]) # нас инетересуют не все элементы списка\n",
    "    \n",
    "print(a, b, c)"
   ]
  },
  {
   "cell_type": "code",
   "execution_count": 76,
   "metadata": {},
   "outputs": [
    {
     "name": "stdout",
     "output_type": "stream",
     "text": [
      "Уравнение имеет одно решение\n",
      "[-3.0]\n"
     ]
    }
   ],
   "source": [
    "disc = b**2 - 4*a*c\n",
    "\n",
    "if disc < 0:\n",
    "    print('Уравнение имеет комплексные корни')\n",
    "elif disc == 0:\n",
    "    print('Уравнение имеет одно решение')\n",
    "    print([-b/(2*a)])\n",
    "else:\n",
    "    print('Уравнение имеет два решения')\n",
    "    print([(-b-(disc)**(1/2))/(2*a), (-b+(disc)**(1/2))/(2*a)])"
   ]
  },
  {
   "cell_type": "code",
   "execution_count": 73,
   "metadata": {},
   "outputs": [],
   "source": [
    "def eq_solve(eq):\n",
    "    for i in '=^x':\n",
    "        eq = eq.replace(i, ' ')\n",
    "\n",
    "    eq = eq.split()\n",
    "    a, b, c = int(eq[0]), int(eq[1][1:]), int(eq[2])\n",
    "    \n",
    "    disc = b**2 - 4*a*c\n",
    "\n",
    "    if disc < 0:\n",
    "        print('Уравнение имеет комплексные корни')\n",
    "        return []\n",
    "    elif disc == 0:\n",
    "        print('Уравнение имеет одно решение')\n",
    "        return [-b/(2*a)]\n",
    "    else:\n",
    "        print('Уравнение имеет два решения')\n",
    "        return [(-b-(disc)**(1/2))/(2*a), (-b+(disc)**(1/2))/(2*a)]"
   ]
  },
  {
   "cell_type": "code",
   "execution_count": 75,
   "metadata": {},
   "outputs": [
    {
     "name": "stdout",
     "output_type": "stream",
     "text": [
      "Уравнение имеет одно решение\n"
     ]
    },
    {
     "data": {
      "text/plain": [
       "[-3.0]"
      ]
     },
     "execution_count": 75,
     "metadata": {},
     "output_type": "execute_result"
    }
   ],
   "source": [
    "eq_solve('1x^2+6x+9=0')\n"
   ]
  },
  {
   "cell_type": "code",
   "execution_count": 77,
   "metadata": {},
   "outputs": [
    {
     "name": "stdout",
     "output_type": "stream",
     "text": [
      "Уравнение имеет два решения\n"
     ]
    },
    {
     "data": {
      "text/plain": [
       "[1.098076211353316, -4.098076211353316]"
      ]
     },
     "execution_count": 77,
     "metadata": {},
     "output_type": "execute_result"
    }
   ],
   "source": [
    "eq_solve('-2x^2-6x+9=0')"
   ]
  },
  {
   "cell_type": "code",
   "execution_count": 78,
   "metadata": {},
   "outputs": [
    {
     "name": "stdout",
     "output_type": "stream",
     "text": [
      "Уравнение имеет комплексные корни\n"
     ]
    },
    {
     "data": {
      "text/plain": [
       "[]"
      ]
     },
     "execution_count": 78,
     "metadata": {},
     "output_type": "execute_result"
    }
   ],
   "source": [
    "eq_solve('3x^2-1x+10=0')"
   ]
  }
 ],
 "metadata": {
  "kernelspec": {
   "display_name": "Python 3",
   "language": "python",
   "name": "python3"
  },
  "language_info": {
   "codemirror_mode": {
    "name": "ipython",
    "version": 3
   },
   "file_extension": ".py",
   "mimetype": "text/x-python",
   "name": "python",
   "nbconvert_exporter": "python",
   "pygments_lexer": "ipython3",
   "version": "3.8.5"
  }
 },
 "nbformat": 4,
 "nbformat_minor": 4
}

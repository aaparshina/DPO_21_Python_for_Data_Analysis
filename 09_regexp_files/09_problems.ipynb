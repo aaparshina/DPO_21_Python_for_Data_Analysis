{
 "cells": [
  {
   "cell_type": "markdown",
   "metadata": {},
   "source": [
    "# Python для автоматизации и анализа данных\n",
    "\n",
    "## Занятие 9 — 23/11/2021\n",
    "\n",
    "*Материалы взяты из курсов Тамбовцевой Аллы «Основы программирования в Python» и Рогович Татьяны «Python для исследователей».*"
   ]
  },
  {
   "cell_type": "code",
   "execution_count": 4,
   "metadata": {},
   "outputs": [],
   "source": [
    "import re"
   ]
  },
  {
   "cell_type": "markdown",
   "metadata": {},
   "source": [
    "## Часть 1: регулярные выражения"
   ]
  },
  {
   "cell_type": "markdown",
   "metadata": {},
   "source": [
    "## Задача 1\n",
    "\n",
    "Нужно достать имена и фамилии двумя объектами для каждого человека.\n",
    "\n",
    "    test_str = \"1NoahEmma2LiamOlivia3MasonSophia4JacobIsabella5WilliamAva6EthanMia7MichaelEmily\""
   ]
  },
  {
   "cell_type": "code",
   "execution_count": 1,
   "metadata": {},
   "outputs": [],
   "source": [
    "test_str = \"1NoahEmma2LiamOlivia3MasonSophia4JacobIsabella5WilliamAva6EthanMia7MichaelEmily\"\n",
    "\n",
    "# код"
   ]
  },
  {
   "cell_type": "markdown",
   "metadata": {},
   "source": [
    "## Задача 2 \n",
    "\n",
    "На сайте нужно вывести сообщение, если пароль не валиден. Обычно пароль должен содержать не менее 8 символов, не менее одной заглавной буквы, не менее одной строчной буквы и, опционально, какой-то символ."
   ]
  },
  {
   "cell_type": "code",
   "execution_count": null,
   "metadata": {},
   "outputs": [],
   "source": [
    "passwordText = 'fbbE4,,,,,,'\n",
    "\n",
    "# код"
   ]
  },
  {
   "cell_type": "markdown",
   "metadata": {},
   "source": [
    "## Задача 3\n",
    "\n",
    "Нужно вывести только имена, записанные кириллицей\n",
    "\n",
    "    users = 'Василий Зайцев, Erwin König, Людмила Павличенко, Josef Allerberger, Matthäus Hetzenauer, Александр Башлачёв'\n"
   ]
  },
  {
   "cell_type": "code",
   "execution_count": 2,
   "metadata": {},
   "outputs": [],
   "source": [
    "users = 'Василий Зайцев, Erwin König, Людмила Павличенко, Josef Allerberger, Matthäus Hetzenauer, Александр Башлачёв'\n",
    "\n",
    "# код"
   ]
  },
  {
   "cell_type": "markdown",
   "metadata": {},
   "source": [
    "## Задача 4\n",
    "\n",
    "Вытащить дату рождения и дату смерти правителя. "
   ]
  },
  {
   "cell_type": "code",
   "execution_count": 3,
   "metadata": {},
   "outputs": [],
   "source": [
    "text = 'Александр Невский. \\\n",
    "Родился: 13 мая 1221 г., Переславль-Залесский, Великое княжество Владимирское. \\\n",
    "Умер: 14 ноября 1263 г. (42 года), Городец, Великое княжество Владимирское'\n",
    "\n",
    "# код"
   ]
  },
  {
   "cell_type": "markdown",
   "metadata": {},
   "source": [
    "## Задача 5\n",
    "Предположим, у нас есть список, включающий строки типа `<ФИО сотрудника>, <e-mail>`."
   ]
  },
  {
   "cell_type": "code",
   "execution_count": null,
   "metadata": {},
   "outputs": [],
   "source": [
    "employees = ['Вронский Алексей Кириллович, vronsak@count.ru', \n",
    "             'Лёвин Константин Дмитриевич, 4kostya-32@kd.ru',\n",
    "             'Облонская Дарья Александровна, OblonskayD@dolly.ru',\n",
    "             'Тверская Елизавета Фёдоровна, BetsyDuchess@tversk.ru'\n",
    "            ]"
   ]
  },
  {
   "cell_type": "markdown",
   "metadata": {},
   "source": [
    "## Задача 6\n",
    "\n",
    "\n",
    "Предположим, что у нас есть список персонажей, и мы хотим создать новую переменную — пол. "
   ]
  },
  {
   "cell_type": "code",
   "execution_count": null,
   "metadata": {},
   "outputs": [],
   "source": [
    "characters = ['Ростов Илья Андреевич', 'Болконский Андрей Николаевич', \n",
    "              'Мейнен Елизавета Карловна', 'Курагин Василий Сергеевич', \n",
    "              'Курагин Анатолий Васильевич', 'Безухов Пётр Кириллович',\n",
    "              'Друбецкая Анна Михайловна', 'Дохолов Федор Иванович']"
   ]
  },
  {
   "cell_type": "markdown",
   "metadata": {},
   "source": [
    "## Часть 2: Сбор данных с помощью регулярных выражений из текстового файла\n",
    "\n",
    "Сначала посмотрим на имеющиеся данные файла `russian_emperors.txt`"
   ]
  },
  {
   "cell_type": "markdown",
   "metadata": {},
   "source": [
    "## Задача 1\n",
    "\n",
    "Загрузите файл `love_letters.txt`. Используя регулярные выражения, запишите в таблицу имя отправителя, имя получателя, соответствующие адреса почт, год написания, текст письма.  "
   ]
  },
  {
   "cell_type": "code",
   "execution_count": null,
   "metadata": {},
   "outputs": [],
   "source": []
  },
  {
   "cell_type": "markdown",
   "metadata": {},
   "source": [
    "## Задача 2\n",
    "\n",
    "Загрузите файл `biography.txt`, соберите все даты (года), постройте столбчатую диаграмму по данным и определите самый насыщенный событиями год. "
   ]
  },
  {
   "cell_type": "code",
   "execution_count": null,
   "metadata": {},
   "outputs": [],
   "source": []
  }
 ],
 "metadata": {
  "kernelspec": {
   "display_name": "Python 3",
   "language": "python",
   "name": "python3"
  },
  "language_info": {
   "codemirror_mode": {
    "name": "ipython",
    "version": 3
   },
   "file_extension": ".py",
   "mimetype": "text/x-python",
   "name": "python",
   "nbconvert_exporter": "python",
   "pygments_lexer": "ipython3",
   "version": "3.8.5"
  }
 },
 "nbformat": 4,
 "nbformat_minor": 4
}

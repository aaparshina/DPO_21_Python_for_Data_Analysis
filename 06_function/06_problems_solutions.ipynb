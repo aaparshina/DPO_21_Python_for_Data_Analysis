{
 "cells": [
  {
   "cell_type": "markdown",
   "metadata": {},
   "source": [
    "# Python для автоматизации и анализа данных\n",
    "\n",
    "## Занятие 6 — 11/11/2021\n",
    "\n",
    "*Материалы взяты из курсов Тамбовцевой Аллы «Основы программирования в Python» и Рогович Татьяны «Python для исследователей».*"
   ]
  },
  {
   "cell_type": "markdown",
   "metadata": {},
   "source": [
    "## Часть 1: функции — продолжение\n"
   ]
  },
  {
   "cell_type": "markdown",
   "metadata": {},
   "source": [
    "### Задача 1\n",
    "\n",
    "Напишите функцию `all_sort()`, которая принимает на вход перечень целых чисел через запятую (не список, а просто сколько угодно значений через запятую) и возвращает список этих значений, отсортированный по возрастанию.\n",
    "\n",
    "**Пример:**\n",
    "\n",
    "*Входные данные:*\n",
    "\n",
    "    7, 6, 1, 3, 8, 0, -2\n",
    "\n",
    "*Выходные данные:*\n",
    "\n",
    "    [-2, 0, 1, 3, 6, 7, 8]"
   ]
  },
  {
   "cell_type": "code",
   "execution_count": 8,
   "metadata": {},
   "outputs": [],
   "source": [
    "def all_sort(*args):\n",
    "    res = sorted(args)\n",
    "    return res\n",
    "\n",
    "all_sort(7, 6, 1, 3, 8, 0, -2)"
   ]
  },
  {
   "cell_type": "markdown",
   "metadata": {},
   "source": [
    "### Задача 2. Округление списка чисел\n",
    "\n",
    "На вход подается список чисел с плавающей точкой через пробел. Верните список, содержащий результаты округления этих чисел.  \n",
    "Решите задание двумя способами — через списковые включения (List comprehensions) или через функцию `map()`.\n",
    "\n",
    "#### Вариант полегче\n",
    "\n",
    "Решите задачу с помощью встроенной функции `round()`.  \n",
    "\n",
    "#### Вариант посложнее — 1 \n",
    "\n",
    "Решите задачу с помощью библиотеки `math`. Округлите в большую сторону.\n",
    "\n",
    "#### Вариант посложнее — 2\n",
    "Решите задачу, написав свою функцию, округляющую числа по российским правилам (дробная часть, равная 0.5, округляется вверх). "
   ]
  },
  {
   "cell_type": "code",
   "execution_count": 9,
   "metadata": {},
   "outputs": [],
   "source": [
    "L = [4.5, 7.3, 2.4, 3.5] # Пусть это будет наш список\n",
    "\n",
    "# Решим задачу с помощью for \n",
    "for i in range(len(L)):\n",
    "    L[i] = round(L[i])\n",
    "L"
   ]
  },
  {
   "cell_type": "code",
   "execution_count": null,
   "metadata": {},
   "outputs": [],
   "source": [
    "[round(i) for i in L] # Или с помощью списковых включений"
   ]
  },
  {
   "cell_type": "code",
   "execution_count": null,
   "metadata": {},
   "outputs": [],
   "source": [
    "list(map(round, L)) # Или с помощью функции map()"
   ]
  },
  {
   "cell_type": "code",
   "execution_count": null,
   "metadata": {},
   "outputs": [],
   "source": [
    "# Вторая часть - округление вверх\n",
    "\n",
    "from math import ceil  \n",
    "\n",
    "list(map(ceil, L))"
   ]
  },
  {
   "cell_type": "code",
   "execution_count": null,
   "metadata": {},
   "outputs": [],
   "source": [
    "# Пишем собственную функцию для округления! \n",
    "\n",
    "from math import modf\n",
    "\n",
    "L_new = []\n",
    "for x in L:\n",
    "    if modf(x)[0] < 0.5:  # modf(x) выдает кортеж, где первое значение - \"хвостик\" вещественного числа\n",
    "        L_new.append(int(modf(x)[1]))\n",
    "    else:\n",
    "        L_new.append(int(modf(x)[1]) + 1)"
   ]
  },
  {
   "cell_type": "code",
   "execution_count": null,
   "metadata": {},
   "outputs": [],
   "source": [
    "# Или с помощью списковых включений\n",
    "[int(modf(x)[1]) if modf(x)[0] < 0.5 else int(modf(x)[1]) + 1 for x in L]"
   ]
  },
  {
   "cell_type": "code",
   "execution_count": null,
   "metadata": {},
   "outputs": [],
   "source": [
    "# Сделаем функцию\n",
    "def new_round(L):\n",
    "    return [int(modf(x)[1]) if modf(x)[0] < 0.5 else int(modf(x)[1]) + 1 for x in L]"
   ]
  },
  {
   "cell_type": "code",
   "execution_count": null,
   "metadata": {},
   "outputs": [],
   "source": [
    "new_round(L)"
   ]
  },
  {
   "cell_type": "code",
   "execution_count": null,
   "metadata": {},
   "outputs": [],
   "source": [
    "# Или можем сделать функцию и применить ее к каждому элементу списка с помощью map()\n",
    "def new_round2(x):\n",
    "    if modf(x)[0] < 0.5:\n",
    "        return int(modf(x)[1])\n",
    "    else:\n",
    "        return int(modf(x)[1])+1"
   ]
  },
  {
   "cell_type": "code",
   "execution_count": null,
   "metadata": {},
   "outputs": [],
   "source": [
    "list(map(new_round2, L))"
   ]
  },
  {
   "cell_type": "markdown",
   "metadata": {},
   "source": [
    "## Часть 2: lambda-функции, `map()` и `filter()`"
   ]
  },
  {
   "cell_type": "markdown",
   "metadata": {},
   "source": [
    "### Задача 1 Телеграмма от Матроскина\n",
    "\n",
    "Кот Матроскин хочет отправить дяде Федору телеграмму, но для этого нужно убрать из текста все знаки препинания и записать все большими буквами. Напишите программу, которая отформатирует телеграмму кота Матроскина. Для получения знаков препинания используйте переменную punctuation из модуля string. \n",
    "\n",
    "Создайте функцию, которая будет работать для любых телеграмм Матроскина.\n",
    "\n",
    "**Пример:**\n",
    "\n",
    "*Входные данные:*\n",
    "\n",
    "    На что нужен экипаж в городе, где нет и четырех тысяч жителей? Долой папу! (Дела с Римом запутывались.) Я за Цезаря, и только за Цезаря. И т.д. и т.д.\n",
    "\n",
    "\n",
    "*Выходные данные:*\n",
    "\n",
    "    НА ЧТО НУЖЕН ЭКИПАЖ В ГОРОДЕ ГДЕ НЕТ И ЧЕТЫРЕХ ТЫСЯЧ ЖИТЕЛЕЙ ДОЛОЙ ПАПУ ДЕЛА С РИМОМ ЗАПУТЫВАЛИСЬ Я ЗА ЦЕЗАРЯ И ТОЛЬКО ЗА ЦЕЗАРЯ И ТД И ТД"
   ]
  },
  {
   "cell_type": "code",
   "execution_count": 17,
   "metadata": {},
   "outputs": [
    {
     "data": {
      "text/plain": [
       "'!\"#$%&\\'()*+,-./:;<=>?@[\\\\]^_`{|}~'"
      ]
     },
     "execution_count": 17,
     "metadata": {},
     "output_type": "execute_result"
    }
   ],
   "source": [
    "from string import punctuation\n",
    "punctuation"
   ]
  },
  {
   "cell_type": "code",
   "execution_count": 21,
   "metadata": {},
   "outputs": [
    {
     "name": "stdout",
     "output_type": "stream",
     "text": [
      "На что нужен экипаж в городе, где нет и четырех тысяч жителей? Долой папу! (Дела с Римом запутывались.) Я за Цезаря, и только за Цезаря. И т.д. и т.д.\n",
      "НА ЧТО НУЖЕН ЭКИПАЖ В ГОРОДЕ ГДЕ НЕТ И ЧЕТЫРЕХ ТЫСЯЧ ЖИТЕЛЕЙ ДОЛОЙ ПАПУ ДЕЛА С РИМОМ ЗАПУТЫВАЛИСЬ Я ЗА ЦЕЗАРЯ И ТОЛЬКО ЗА ЦЕЗАРЯ И ТД И ТД\n"
     ]
    }
   ],
   "source": [
    "text = input()\n",
    "for punc in punctuation:\n",
    "    text = text.replace(punc, '')\n",
    "print(text.upper())"
   ]
  },
  {
   "cell_type": "code",
   "execution_count": 18,
   "metadata": {},
   "outputs": [],
   "source": [
    "def new_text():\n",
    "    text = input()\n",
    "    punc = '!\"#$%&\\'()*+,-./:;<=>?@[\\\\]^_`{|}~'\n",
    "    \n",
    "    for punc in punctuation:\n",
    "        text = text.replace(punc, '')\n",
    "    \n",
    "    return text.upper()"
   ]
  },
  {
   "cell_type": "code",
   "execution_count": 19,
   "metadata": {},
   "outputs": [
    {
     "name": "stdout",
     "output_type": "stream",
     "text": [
      "На что нужен экипаж в городе, где нет и четырех тысяч жителей? Долой папу! (Дела с Римом запутывались.) Я за Цезаря, и только за Цезаря. И т.д. и т.д.\n"
     ]
    },
    {
     "data": {
      "text/plain": [
       "'НА ЧТО НУЖЕН ЭКИПАЖ В ГОРОДЕ ГДЕ НЕТ И ЧЕТЫРЕХ ТЫСЯЧ ЖИТЕЛЕЙ ДОЛОЙ ПАПУ ДЕЛА С РИМОМ ЗАПУТЫВАЛИСЬ Я ЗА ЦЕЗАРЯ И ТОЛЬКО ЗА ЦЕЗАРЯ И ТД И ТД'"
      ]
     },
     "execution_count": 19,
     "metadata": {},
     "output_type": "execute_result"
    }
   ],
   "source": [
    "new_text()"
   ]
  },
  {
   "cell_type": "code",
   "execution_count": 29,
   "metadata": {},
   "outputs": [
    {
     "name": "stdout",
     "output_type": "stream",
     "text": [
      "На что нужен экипаж в городе, где нет и четырех тысяч жителей? Долой папу! (Дела с Римом запутывались.) Я за Цезаря, и только за Цезаря. И т.д. и т.д.\n",
      "На что нужен экипаж в городе, где нет и четырех тысяч жителей? Долой папу! (Дела с Римом запутывались.) Я за Цезаря, и только за Цезаря. И т.д. и т.д.\n"
     ]
    },
    {
     "data": {
      "text/plain": [
       "'НА ЧТО НУЖЕН ЭКИПАЖ В ГОРОДЕ ГДЕ НЕТ И ЧЕТЫРЕХ ТЫСЯЧ ЖИТЕЛЕЙ ДОЛОЙ ПАПУ ДЕЛА С РИМОМ ЗАПУТЫВАЛИСЬ Я ЗА ЦЕЗАРЯ И ТОЛЬКО ЗА ЦЕЗАРЯ И ТД И ТД'"
      ]
     },
     "execution_count": 29,
     "metadata": {},
     "output_type": "execute_result"
    }
   ],
   "source": [
    "# или так)\n",
    "\n",
    "\"\".join(filter(lambda x: x not in '!\"#$%&\\'()*+,-./:;<=>?@[\\\\]^_`{|}~', input())).upper()"
   ]
  },
  {
   "cell_type": "markdown",
   "metadata": {},
   "source": [
    "### Задача 2. Подписки в Инстаграме\n",
    "Помогите блогеру Сене выбрать из подписок в инстаграме аккаунты с определенными размерами аудитории, чтобы отправить предложение о сотрудничестве. \n",
    "\n",
    "**ТРЕБУЕМАЯ ФУНКЦИЯ**\n",
    "\n",
    "+ Функция filter_accounts, которая принимает в качестве параметра словарь accounts, ключами которого являются адреса аккаунтов, а значениями — число подписчиков. \n",
    "+ Также функция принимает в качестве параметров целые числа min_followers и max_followers. \n",
    "+ Функция должна возвращать список адресов аккаунтов, где число подписчиков находится в промежутке между min_followers и max_followers включительно, адреса должны быть отсортированы в лексикографическом порядке.\n",
    "\n",
    "\n",
    "**Пример:**\n",
    "\n",
    "*Входные данные:*\n",
    "\n",
    "    {'@blogger13999': 2308, '@dragondragon': 1473, '@account': 1400, '@flowers': 1250, '@banana': 1500}, 1400, 1500\n",
    "\n",
    "\n",
    "*Выходные данные:*\n",
    "\n",
    "    ['@account', '@banana', '@dragondragon']\n"
   ]
  },
  {
   "cell_type": "code",
   "execution_count": 30,
   "metadata": {},
   "outputs": [],
   "source": [
    "# Разбираемся с тем, что от нас хотят, на частном примере\n",
    "# На вход подается словарь и два числа\n",
    "accounts = {'@blogger13999': 2308, '@dragondragon': 1473, '@account': 1400, '@flowers': 1250, '@banana': 1500}\n",
    "min_followers = 1400\n",
    "max_followers = 1500\n",
    "\n",
    "result = []\n",
    "\n",
    "for k, v in accounts.items(): # Для каждой пары ключ-значение в словаре accounts\n",
    "    if min_followers <= v <= max_followers: # Если значение удовлетворяет условию,\n",
    "        result.append(k)                    # добавляем ключ в новый список"
   ]
  },
  {
   "cell_type": "code",
   "execution_count": 31,
   "metadata": {},
   "outputs": [
    {
     "data": {
      "text/plain": [
       "['@account', '@banana', '@dragondragon']"
      ]
     },
     "execution_count": 31,
     "metadata": {},
     "output_type": "execute_result"
    }
   ],
   "source": [
    "sorted(result) # Нам также нужно, чтобы список был отсортирован па алфавиту"
   ]
  },
  {
   "cell_type": "code",
   "execution_count": 32,
   "metadata": {},
   "outputs": [],
   "source": [
    "# Заворачиваем все это в функцию\n",
    "def filter_accounts(accounts, min_followers, max_followers):\n",
    "    result = []\n",
    "    for k, v in accounts.items():\n",
    "        if min_followers <= v <= max_followers:\n",
    "            result.append(k)\n",
    "            \n",
    "    return sorted(result)"
   ]
  },
  {
   "cell_type": "code",
   "execution_count": 37,
   "metadata": {},
   "outputs": [],
   "source": [
    "def filter_accounts(accounts, min_followers, max_followers):\n",
    "    return sorted([k for k, v in accounts.items() if min_followers <= v <= max_followers])"
   ]
  },
  {
   "cell_type": "code",
   "execution_count": 44,
   "metadata": {},
   "outputs": [
    {
     "data": {
      "text/plain": [
       "['@account', '@banana', '@dragondragon']"
      ]
     },
     "execution_count": 44,
     "metadata": {},
     "output_type": "execute_result"
    }
   ],
   "source": [
    "# или так\n",
    "sorted(dict(filter(lambda v: min_followers <= v[1] <= max_followers, accounts.items())).keys())"
   ]
  },
  {
   "cell_type": "markdown",
   "metadata": {},
   "source": [
    "## Часть 3: рекурсия\n"
   ]
  },
  {
   "cell_type": "code",
   "execution_count": 4,
   "metadata": {},
   "outputs": [],
   "source": [
    "def factorial_old(y): \n",
    "    \n",
    "    \"\"\"\n",
    "    y - целое число\n",
    "    Функция считает факториал\n",
    "    \"\"\"\n",
    "    \n",
    "    f = 1\n",
    "    \n",
    "    for i in range(2, y + 1):\n",
    "        f = f * i\n",
    "        \n",
    "    return f"
   ]
  },
  {
   "cell_type": "markdown",
   "metadata": {},
   "source": [
    "Рекурсия — это техника в Computer Science, когда функция вызывает сама себя. Самый известный пример — вычисление факториала $n! = 1 \\times 2 \\dots \\times n$. Зная, что 0! = 1, факториал можно записать следующим образом:\n",
    "\n"
   ]
  },
  {
   "cell_type": "code",
   "execution_count": 6,
   "metadata": {},
   "outputs": [],
   "source": [
    "def factorial(n):\n",
    "    if n != 1:\n",
    "        return n * factorial(n-1)\n",
    "    else:\n",
    "        return 1"
   ]
  },
  {
   "cell_type": "code",
   "execution_count": 2,
   "metadata": {},
   "outputs": [
    {
     "data": {
      "text/plain": [
       "6"
      ]
     },
     "execution_count": 2,
     "metadata": {},
     "output_type": "execute_result"
    }
   ],
   "source": [
    "factorial(3)"
   ]
  },
  {
   "cell_type": "markdown",
   "metadata": {},
   "source": [
    "Как это работает? Разберем по шагам: \n",
    "\n",
    "`n = 3`\n",
    "\n",
    "    factorial(3)\n",
    "    \n",
    "Что внутри?\n",
    "    \n",
    "    if n != 1:\n",
    "        return n * factorial(n-1)\n",
    "    else:\n",
    "        return 1\n",
    "        \n",
    "Условие `n != 1` верно, значит выполняем `return n * factorial(n-1)`. Но что такое `factorial(n-1)`? Сейчас точное значение функция не знает и пытается его выяснить, подставляя вместо `n` 3. \n",
    "    \n",
    "Следовательно вызываем \n",
    "\n",
    "    factorial(2)\n",
    "    \n",
    "Что внутри?\n",
    "    \n",
    "    if n != 1:\n",
    "        return n * factorial(n-1)\n",
    "    else:\n",
    "        return 1\n",
    "        \n",
    "Условие `n != 1` верно, значит выполняем `return n * factorial(n-1)`. Опять же, что такое `factorial(n-1)`, функция не знает и пытается его выяснить, подставляя вместо `n` уже 2. \n",
    "\n",
    "Следовательно вызываем \n",
    "\n",
    "    factorial(1)\n",
    "    \n",
    "Что внутри?\n",
    "    \n",
    "    if n != 1:\n",
    "        return n * factorial(n-1)\n",
    "    else:\n",
    "        return 1\n",
    "        \n",
    "Теперь условие `n != 1` не соблюдается, значит, мы идем в `else` и функция возвращает 1. Все. Больше функция ничего не вызывает, работу заканчивает. \n",
    "\n",
    "Резюмируя, работа выглядит так: \n",
    "\n",
    "    factorial(3) >>> 3 * factorial(3 - 1) >>> 3 * 2 * factorial(2 - 1) >>> 3 * 2 * 1 "
   ]
  },
  {
   "cell_type": "code",
   "execution_count": 8,
   "metadata": {},
   "outputs": [
    {
     "name": "stdout",
     "output_type": "stream",
     "text": [
      "313 ns ± 1.52 ns per loop (mean ± std. dev. of 7 runs, 1000000 loops each)\n",
      "332 ns ± 2.62 ns per loop (mean ± std. dev. of 7 runs, 1000000 loops each)\n"
     ]
    }
   ],
   "source": [
    "%timeit factorial_old(4)\n",
    "%timeit factorial(4)"
   ]
  },
  {
   "cell_type": "markdown",
   "metadata": {},
   "source": [
    "### Задача 1 — Рекурсивно посчитать сумму чисел от 1 до N\n",
    "\n",
    "**Пример:**\n",
    "\n",
    "*Входные данные:*\n",
    "\n",
    "    3\n",
    "\n",
    "*Выходные данные:*\n",
    "\n",
    "    6"
   ]
  },
  {
   "cell_type": "code",
   "execution_count": 49,
   "metadata": {},
   "outputs": [
    {
     "data": {
      "text/plain": [
       "10"
      ]
     },
     "execution_count": 49,
     "metadata": {},
     "output_type": "execute_result"
    }
   ],
   "source": [
    "# один вариант, когда мы задаем только само число \n",
    "def add(n):\n",
    "    if n == 0:\n",
    "        return 0\n",
    "    return n + add(n - 1)\n",
    "\n",
    "add(4)"
   ]
  },
  {
   "cell_type": "code",
   "execution_count": 50,
   "metadata": {},
   "outputs": [
    {
     "data": {
      "text/plain": [
       "10"
      ]
     },
     "execution_count": 50,
     "metadata": {},
     "output_type": "execute_result"
    }
   ],
   "source": [
    "# еще вариант, когда мы задаем уже два параметра i = 1 и n - наше число\n",
    "def add_new(i, n):\n",
    "    if i != n:\n",
    "        return i + add_new(i + 1, n)\n",
    "    else:\n",
    "        return n\n",
    "    \n",
    "add_new(1, 4)"
   ]
  }
 ],
 "metadata": {
  "kernelspec": {
   "display_name": "Python 3",
   "language": "python",
   "name": "python3"
  },
  "language_info": {
   "codemirror_mode": {
    "name": "ipython",
    "version": 3
   },
   "file_extension": ".py",
   "mimetype": "text/x-python",
   "name": "python",
   "nbconvert_exporter": "python",
   "pygments_lexer": "ipython3",
   "version": "3.8.5"
  }
 },
 "nbformat": 4,
 "nbformat_minor": 4
}

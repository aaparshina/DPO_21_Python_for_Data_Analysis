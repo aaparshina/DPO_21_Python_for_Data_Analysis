{
 "cells": [
  {
   "cell_type": "markdown",
   "metadata": {},
   "source": [
    "# Python для исследователей\n",
    "\n",
    "На основе блокнота *Аллы Тамбовцевой, НИУ ВШЭ*\n",
    "\n",
    "Дополнения: *Татьяна Рогович\n",
    "\n",
    "# Регулярные выражения"
   ]
  },
  {
   "cell_type": "markdown",
   "metadata": {},
   "source": [
    "### Введение в регулярные выражения"
   ]
  },
  {
   "cell_type": "markdown",
   "metadata": {},
   "source": [
    "Регулярные выражения ‒ выражения, последовательности символов, которые позволяют искать совпадения в тексте. Выражаясь более формально, они помогают найти подстроки определенного вида в строке. Еще о регулярных выражениях можно думать как о шаблонах, в которые мы можем подставлять текст, и этот текст либо соответствует шаблону, либо нет. В самом простом случае в качестве регулярного выражения может использоваться обычная строка. "
   ]
  },
  {
   "cell_type": "code",
   "execution_count": 2,
   "metadata": {},
   "outputs": [],
   "source": [
    "# библиотека регулярных выражений в Python\n",
    "import re"
   ]
  },
  {
   "cell_type": "markdown",
   "metadata": {},
   "source": [
    "Возьмем две первых строки из известной считалки Агаты Кристи и попытаемся найти в них слово \"обедать\". \n",
    "Для этого можно воспользоваться оператором in. Он проверяет точное вхождение одной строки в другую и возвращает логическое значение: True, если вхождение есть, и False в противном случае."
   ]
  },
  {
   "cell_type": "code",
   "execution_count": 2,
   "metadata": {},
   "outputs": [
    {
     "data": {
      "text/plain": [
       "True"
      ]
     },
     "execution_count": 2,
     "metadata": {},
     "output_type": "execute_result"
    }
   ],
   "source": [
    "string = 'Десять негритят отправились обедать, \\\n",
    "          Один поперхнулся, их осталось девять.'\n",
    "# слово \"обедать\" маленькими буквами есть в строке\n",
    "'обедать' in string"
   ]
  },
  {
   "cell_type": "code",
   "execution_count": 3,
   "metadata": {},
   "outputs": [
    {
     "data": {
      "text/plain": [
       "False"
      ]
     },
     "execution_count": 3,
     "metadata": {},
     "output_type": "execute_result"
    }
   ],
   "source": [
    "# а если мы попытаемся поискать слово \"Обедать\" с большой буквы, то оператор вернет False\n",
    "'Обедать' in string"
   ]
  },
  {
   "cell_type": "markdown",
   "metadata": {},
   "source": [
    "Видно, что слово *Один* начинается с большой буквы. Что, если мы хотим найти в некоторой строке слово *Один* вне зависимости от регистра, то есть все слова типа *Один, один, ОДИН* и т.д.? Эту задачу все еще можно решить без регулярных выражений: привести всю строку к нижнему регистру и искать слово *один*. \n",
    "А что, если у нас будет текст подлиннее (например, полный текст считалки), и в нем необходимо найти все числительные от одного до десяти во всех падежах (один/одного/двое/двоим и т.д.)? В такой ситуации удобнее написать некоторый шаблон, чтобы не создавать длинный список слов с разными формами слов. Тут на помощь придут регулярные выражения. "
   ]
  },
  {
   "cell_type": "markdown",
   "metadata": {},
   "source": [
    "## Символы и наборы символов\n",
    "\n",
    "* Для обозначения произвольного символа (кроме новой строки) используется  точка ‒ `.`\n",
    "\n",
    "\n",
    "* `[..]` Один из символов в скобках (`[^..]` — любой символ, кроме тех, что в скобках). Если мы хотим, чтобы одним из этих символов был дефис (минус) нужно указать его первым или последним символом в скобках.\n",
    "\n",
    "\n",
    "* В квадратные скобки можно включать интервалы:\n",
    "    \n",
    "    `[0-9]` соответствует любой цифре\n",
    "    `[A-Z]` соответствует любой заглавной букве английского алфавита  \n",
    "    `[a-z]` соответствует любой строчной букве английского алфавита  \n",
    "    `[А-Я]` и `[а-я]` ‒ аналогично для букв русского алфавита (кроме буквы ё/Ё - ее нужно включать отдельно!)\n",
    "    \n",
    "\n",
    "* Для цифр есть специальный символ `\\d` (от *digit*) ≈`[0-9]` . Добавление обратного слэша называется экранированием: так мы отмечаем, что ищем именно цифру, а не просто букву d. \n",
    "\n",
    "\n",
    "* Для любого символа, кроме цифры тоже есть специальный символ `\\D` (от *digit*)≈`[^0-9]` (заглавная буква здесь отвечает за отрицание). Добавление обратного слэша называется экранированием: так мы отмечаем, что ищем именно цифру, а не просто букву d. \n",
    "\n",
    "\n",
    "* Для пробела тоже существует свой символ ‒ `\\s` (от *space*) ≈`[ \\f\\n\\r\\t\\v]`. Этот символ соответствует ровно одному пробельному символу в тексте (пробел, табуляция, перенос строки и т.д.).\n",
    "\n",
    "\n",
    "* Любой непробельный символ, обозначается как `\\S` (заглавная буква здесь отвечает за отрицание).\n",
    "\n",
    "\n",
    "* Для букв тоже существует свой символ ‒ `\\w` (от *word*) ≈ `[0-9a-zA-Zа-яА-ЯёЁ_]`. Любая буква (то, что может быть частью слова), а также цифры и _ .\n",
    "\n",
    "\n",
    "* Любая не-буква, не-цифра и не подчёркивание, обозначается как `\\W` (заглавная буква здесь отвечает за отрицание).\n",
    "\n",
    "\n",
    "* `\\b` позволяет найти нам границу слова  начало или конец слова (слева пусто или не-буква, справа буква и наоборот). В отличие от предыдущих соответствует позиции, а не символу. `\\B` - не граница слова: либо и слева, и справа буквы, либо и слева, и справа НЕ буквы.\n",
    "\n",
    "\n",
    "* `\\` Экранирование специальных символов (\\. означает точку или \\+ — знак «плюс»). Это нужно, когда нам нужно отловить настоящую точку, а не точку - любой символ.\n",
    "\n",
    "* `^` и `$` начало и конец строки соответственно.\n",
    "\n",
    "\n",
    "* `a|b`\tСоответствует a или b\n",
    "\n",
    "\n",
    "* `\\t`, `\\n`, `\\r`\tСимвол табуляции, новой строки и возврата каретки соответственно\n",
    "\n",
    "\n",
    "**Квантификаторы** \n",
    "* *{n,m}* \tОт n до m вхождений ({,m} — от 0 до m)\n",
    "\n",
    "\n",
    "* Знак `+` соответствует одному или более вхождению символа(ов), который стоит слева от `+` (аналог `{1,}`)\n",
    "\n",
    "\n",
    "* Знак `*` соответствует нулю или более вхождениям символа, который стоит слева от `*` `{,}`\n",
    "\n",
    "\n",
    "* Знак `?` соответствует нулю или одному вхождению символа, который стоит слева от `?` `{0,1}`"
   ]
  },
  {
   "cell_type": "code",
   "execution_count": 69,
   "metadata": {},
   "outputs": [
    {
     "name": "stdout",
     "output_type": "stream",
     "text": [
      "Two toads, terribly tired, trotted along the road.\n",
      "Said toad number 1 to the toad number Two:\n",
      "'I'm tired, and I'm carrying the load.\n",
      "['Two toads, terribly tired, trotted along the road.', 'Said toad number 1 to the toad number Two:', \"'I'm tired, and I'm carrying the load.\"]\n",
      "['1']\n",
      "['1']\n",
      "['Two toads, terribly tired, trotted along the road.\\nSaid toad number ', \" to the toad number Two:\\n'I'm tired, and I'm carrying the load.\"]\n",
      "[' ', ' ', ' ', ' ', ' ', ' ', ' ', '\\n', ' ', ' ', ' ', ' ', ' ', ' ', ' ', ' ', '\\n', ' ', ' ', ' ', ' ', ' ', ' ']\n",
      "['Two', 'toads,', 'terribly', 'tired,', 'trotted', 'along', 'the', 'road.', 'Said', 'toad', 'number', '1', 'to', 'the', 'toad', 'number', 'Two:', \"'I'm\", 'tired,', 'and', \"I'm\", 'carrying', 'the', 'load.']\n",
      "['toad', 'road', 'toad', 'toad', 'load']\n",
      "['load']\n",
      "['toad', 'toad', 'toad']\n",
      "['toad', 'toad']\n",
      "['Two', 'Two']\n",
      "['Two']\n",
      "['.', '.']\n",
      "['.']\n"
     ]
    }
   ],
   "source": [
    "twister = '''Two toads, terribly tired, trotted along the road.\\nSaid toad number 1 to the toad number Two:\\n'I'm tired, and I'm carrying the load.'''\n",
    "\n",
    "print(twister)\n",
    "print(re.findall(r'.+', twister))\n",
    "print(re.findall(r'\\d+', twister))\n",
    "print(re.findall(r'[0-9]+', twister))\n",
    "print(re.findall(r'\\D+', twister))\n",
    "print(re.findall(r'\\s+', twister))\n",
    "print(re.findall(r'\\S+', twister))\n",
    "print(re.findall(r'[lrt]oad', twister))\n",
    "print(re.findall(r'[^rt]oad', twister))\n",
    "print(re.findall(r'toad', twister))\n",
    "print(re.findall(r'toad\\b', twister))\n",
    "print(re.findall(r'Two', twister))\n",
    "print(re.findall(r'^Two', twister))\n",
    "print(re.findall(r'\\.', twister))\n",
    "print(re.findall(r'\\.$', twister))"
   ]
  },
  {
   "cell_type": "markdown",
   "metadata": {},
   "source": [
    "Давайте посмотрим на пару примеров на других строках."
   ]
  },
  {
   "cell_type": "code",
   "execution_count": 3,
   "metadata": {},
   "outputs": [
    {
     "data": {
      "text/plain": [
       "['абв']"
      ]
     },
     "execution_count": 3,
     "metadata": {},
     "output_type": "execute_result"
    }
   ],
   "source": [
    "st = 'ёёёёёёёёабв'\n",
    "re.findall(r'[а-я]+',st) # ищем последовательность, которая входит в последовательность от а до я"
   ]
  },
  {
   "cell_type": "markdown",
   "metadata": {},
   "source": [
    "Здесь нашлось абв, потому что в диапазон а-я буква ё не входит!"
   ]
  },
  {
   "cell_type": "code",
   "execution_count": 5,
   "metadata": {},
   "outputs": [
    {
     "data": {
      "text/plain": [
       "['1917']"
      ]
     },
     "execution_count": 5,
     "metadata": {},
     "output_type": "execute_result"
    }
   ],
   "source": [
    "st = 'Революция произошла в 1917 году'\n",
    "re.findall(r'\\d+',st) # ищем последовательность цифр"
   ]
  },
  {
   "cell_type": "code",
   "execution_count": 6,
   "metadata": {},
   "outputs": [
    {
     "data": {
      "text/plain": [
       "['Революция произошла в ', ' году']"
      ]
     },
     "execution_count": 6,
     "metadata": {},
     "output_type": "execute_result"
    }
   ],
   "source": [
    "st = 'Революция произошла в 1917 году'\n",
    "re.findall(r'\\D+',st) # ищем все последовательности без цифр"
   ]
  },
  {
   "cell_type": "code",
   "execution_count": 7,
   "metadata": {},
   "outputs": [
    {
     "data": {
      "text/plain": [
       "['Революция', 'произошла', 'в', '1917', 'году']"
      ]
     },
     "execution_count": 7,
     "metadata": {},
     "output_type": "execute_result"
    }
   ],
   "source": [
    "st = 'Революция произошла в 1917 году'\n",
    "re.findall(r'\\S+',st) # ищем все, что не пробельные символы"
   ]
  },
  {
   "cell_type": "markdown",
   "metadata": {},
   "source": [
    "Для разбора дальнейших символов в регулярных выражениях, создадим небольшой набор слов (не очень осмысленный, но удобный):\n",
    "\n",
    "     хи, хех, хааа, хаха"
   ]
  },
  {
   "cell_type": "markdown",
   "metadata": {},
   "source": [
    "* Знак `.` соответствует одному любому символу в строке. Так, регулярное выражение `x.x` \"поймает\" слова *хах* и *хех*.\n",
    "* Знак `+` соответствует одному или более вхождению символа(ов), который стоит слева от `+`. Выражение `xa+` \"поймает\" слова *xa* и *хаааа*.\n",
    "* Знак `*` соответствует нулю или более вхождениям символа, который стоит слева от `*`.  Выражение `xaх*`  \"поймает\" слова *xa* и *хах*.\n",
    "* Знак `?` соответствует нулю или одному вхождению символа, который стоит слева от `?`.  Выражение `xa?`  \"поймает\" все последовательности *xa* и буквы *x*."
   ]
  },
  {
   "cell_type": "code",
   "execution_count": 5,
   "metadata": {},
   "outputs": [
    {
     "data": {
      "text/plain": [
       "['хех', 'хах']"
      ]
     },
     "execution_count": 5,
     "metadata": {},
     "output_type": "execute_result"
    }
   ],
   "source": [
    "st = \"хи, хех, хааа, хаха\"\n",
    "re.findall(r'х.х',st)"
   ]
  },
  {
   "cell_type": "code",
   "execution_count": 6,
   "metadata": {},
   "outputs": [
    {
     "data": {
      "text/plain": [
       "['хааа', 'ха', 'ха']"
      ]
     },
     "execution_count": 6,
     "metadata": {},
     "output_type": "execute_result"
    }
   ],
   "source": [
    "re.findall(r'ха+',st)"
   ]
  },
  {
   "cell_type": "code",
   "execution_count": 10,
   "metadata": {},
   "outputs": [
    {
     "data": {
      "text/plain": [
       "['хааа', 'ха', 'ха']"
      ]
     },
     "execution_count": 10,
     "metadata": {},
     "output_type": "execute_result"
    }
   ],
   "source": [
    "# квантификатор + может быть выражен интервалом {1,}\n",
    "re.findall(r'ха{1,}',st)"
   ]
  },
  {
   "cell_type": "code",
   "execution_count": 7,
   "metadata": {},
   "outputs": [
    {
     "data": {
      "text/plain": [
       "['ха', 'хах']"
      ]
     },
     "execution_count": 7,
     "metadata": {},
     "output_type": "execute_result"
    }
   ],
   "source": [
    "re.findall(r'хах*',st) # ха из хаааа, т.к * говорит нам что слева должно быть ха и справа 0 или бесконечно число х"
   ]
  },
  {
   "cell_type": "code",
   "execution_count": 13,
   "metadata": {},
   "outputs": [
    {
     "data": {
      "text/plain": [
       "['ха', 'хах']"
      ]
     },
     "execution_count": 13,
     "metadata": {},
     "output_type": "execute_result"
    }
   ],
   "source": [
    "# квантификатор * может быть выражен интервалом {,}\n",
    "re.findall(r'хах{,}',st)"
   ]
  },
  {
   "cell_type": "code",
   "execution_count": 8,
   "metadata": {},
   "outputs": [
    {
     "data": {
      "text/plain": [
       "['х', 'х', 'х', 'ха', 'ха', 'ха']"
      ]
     },
     "execution_count": 8,
     "metadata": {},
     "output_type": "execute_result"
    }
   ],
   "source": [
    "re.findall(r'ха?',st) #? говорит нам, что слева должен быть один х, а справа 0 или 1 а. \n",
    "# Соответственно ха и х из хах; х и х из хех; и ха из хааа; ха ха из хаха"
   ]
  },
  {
   "cell_type": "code",
   "execution_count": 70,
   "metadata": {},
   "outputs": [
    {
     "data": {
      "text/plain": [
       "['х', 'х', 'х', 'ха', 'ха', 'ха']"
      ]
     },
     "execution_count": 70,
     "metadata": {},
     "output_type": "execute_result"
    }
   ],
   "source": [
    "# квантификатор ? может быть выражен интервалом {0,1}\n",
    "re.findall(r'ха{0,1}',st)"
   ]
  },
  {
   "cell_type": "markdown",
   "metadata": {},
   "source": [
    "В регулярных выражениях также можно использовать условие *или*. Например, возвращаясь к нашей \"смеющейся\" строке, если мы напишем выражение `x[а|е]х`,  оно поймает слова *хах* и *хех*, а вот вдруг появившийся *хох* не поймает.\n",
    "\n"
   ]
  },
  {
   "cell_type": "code",
   "execution_count": 15,
   "metadata": {},
   "outputs": [
    {
     "data": {
      "text/plain": [
       "['хех', 'хах']"
      ]
     },
     "execution_count": 15,
     "metadata": {},
     "output_type": "execute_result"
    }
   ],
   "source": [
    "re.findall(r'х[а|е]х',st)"
   ]
  },
  {
   "cell_type": "markdown",
   "metadata": {},
   "source": [
    "Но обычно \"или\" нам нужно для более сложных случаев, например, когда мы хотим отловить однокоренные слова с меняющейся гласной, потому что с этим примером справится и простое перечисление в скобках."
   ]
  },
  {
   "cell_type": "code",
   "execution_count": 16,
   "metadata": {},
   "outputs": [
    {
     "data": {
      "text/plain": [
       "['хех', 'хах']"
      ]
     },
     "execution_count": 16,
     "metadata": {},
     "output_type": "execute_result"
    }
   ],
   "source": [
    "re.findall(r'х[ае]х',st)"
   ]
  },
  {
   "cell_type": "markdown",
   "metadata": {},
   "source": [
    "Как быть, если с помощью регулярного выражения нужно найти подстроку, содержащую знаки препинания? Те же точки, вопросительные знаки, скобки? Нужно их экранировать ‒ ставить перед ними `\\`, например, `\\.`, `\\,`, `\\?`. Это символ будет сообщать Python, что нам нужен именно конкретный символ (точка, запятая, знак вопроса и др.). Внутри квадратных скобок, где мы перечисляем последовательности экранирование не нужно."
   ]
  },
  {
   "cell_type": "markdown",
   "metadata": {},
   "source": [
    "В регулярных выражениях можно явно задавать число повторений символов. Если мы знаем точное число символов, то его можно указать в фигурных скобках. Так, выражение `а{4}` будет соответствовать четырем буквам `a` подряд. Если точное число повторений нам неизвестно, можно задать диапазон, указав начало и конец отрезка через запятую. Например, такое выражение позволит найти от двух до четырех букв `a` подряд: `a{2,4}`. Если известен только левый или правый конец отрезка, то второй конец можно опустить: `a{2,}` (не менее двух) или `a{,4}` (не более 4)."
   ]
  },
  {
   "cell_type": "markdown",
   "metadata": {},
   "source": [
    "Мы работали с функцией `findall`, но в модуле `re` есть и другие полезные функции. Вот наиболее часто используемые из них:\n",
    "\n",
    "- `re.match()`\n",
    "- `re.search()`\n",
    "- `re.findall()`\n",
    "- `re.split()`\n",
    "- `re.sub()`\n",
    "- `re.compile()`\n",
    "\n",
    "Рассмотрим их подробнее."
   ]
  },
  {
   "cell_type": "markdown",
   "metadata": {},
   "source": [
    "### re.match(pattern, string):\n",
    "Этот метод ищет по заданному шаблону в начале строки. Например, если мы вызовем метод `match()` на строке «Сидоров Иван Иванович» с шаблоном «Сидоров», то он завершится успешно. Однако если мы будем искать «Иван», то результат будет отрицательный. Давайте посмотрим на его работу:"
   ]
  },
  {
   "cell_type": "code",
   "execution_count": 29,
   "metadata": {},
   "outputs": [
    {
     "name": "stdout",
     "output_type": "stream",
     "text": [
      "<_sre.SRE_Match object; span=(0, 7), match='Сидоров'>\n"
     ]
    }
   ],
   "source": [
    "result = re.match(r'Сидоров', 'Сидоров Иван Петрович')\n",
    "print(result)"
   ]
  },
  {
   "cell_type": "markdown",
   "metadata": {},
   "source": [
    "Искомая подстрока найдена. Чтобы вывести ее содержимое, используем метод `group()`. (Мы используем «r» перед строкой шаблона, чтобы показать, что это «сырая» строка в Python)."
   ]
  },
  {
   "cell_type": "code",
   "execution_count": 30,
   "metadata": {},
   "outputs": [
    {
     "data": {
      "text/plain": [
       "'Сидоров'"
      ]
     },
     "execution_count": 30,
     "metadata": {},
     "output_type": "execute_result"
    }
   ],
   "source": [
    "result.group(0)"
   ]
  },
  {
   "cell_type": "markdown",
   "metadata": {},
   "source": [
    "Теперь попробуем найти «Иван» в данной строке. Поскольку строка начинается с фамилии, метод вернет `None`:"
   ]
  },
  {
   "cell_type": "code",
   "execution_count": 31,
   "metadata": {},
   "outputs": [
    {
     "name": "stdout",
     "output_type": "stream",
     "text": [
      "None\n"
     ]
    }
   ],
   "source": [
    "result = re.match(r'Иван', 'Сидоров Иван Петрович')\n",
    "print(result)"
   ]
  },
  {
   "cell_type": "markdown",
   "metadata": {},
   "source": [
    "Также есть методы `start()` и `end()` для того, чтобы узнать начальную и конечную позицию найденной строки."
   ]
  },
  {
   "cell_type": "code",
   "execution_count": 32,
   "metadata": {},
   "outputs": [
    {
     "name": "stdout",
     "output_type": "stream",
     "text": [
      "0\n",
      "7\n"
     ]
    }
   ],
   "source": [
    "result = re.match(r'Сидоров', 'Сидоров Иван Петрович')\n",
    "print(result.start())\n",
    "print(result.end())"
   ]
  },
  {
   "cell_type": "markdown",
   "metadata": {},
   "source": [
    "Эти методы иногда очень полезны для работы со строками."
   ]
  },
  {
   "cell_type": "markdown",
   "metadata": {},
   "source": [
    "### re.search(pattern, string):\n",
    "Этот метод похож на `match()`, но он ищет не только в начале строки. В отличие от предыдущего, `search()` вернет объект, если мы попытаемся найти «Иван»."
   ]
  },
  {
   "cell_type": "code",
   "execution_count": 33,
   "metadata": {},
   "outputs": [
    {
     "data": {
      "text/plain": [
       "'Иван'"
      ]
     },
     "execution_count": 33,
     "metadata": {},
     "output_type": "execute_result"
    }
   ],
   "source": [
    "result = re.search(r'Иван', 'Сидоров Иван Петрович')\n",
    "result.group(0)"
   ]
  },
  {
   "cell_type": "markdown",
   "metadata": {},
   "source": [
    "Метод `search()` ищет по всей строке, но возвращает только первое найденное совпадение."
   ]
  },
  {
   "cell_type": "code",
   "execution_count": 34,
   "metadata": {},
   "outputs": [
    {
     "data": {
      "text/plain": [
       "'Иван'"
      ]
     },
     "execution_count": 34,
     "metadata": {},
     "output_type": "execute_result"
    }
   ],
   "source": [
    "result = re.search(r'Иван', 'Сидоров Иван Иванович')\n",
    "result.group(0)"
   ]
  },
  {
   "cell_type": "markdown",
   "metadata": {},
   "source": [
    "### re.split(pattern, string, [maxsplit=0]):\n",
    "Этот метод разделяет строку по заданному шаблону."
   ]
  },
  {
   "cell_type": "code",
   "execution_count": 35,
   "metadata": {},
   "outputs": [
    {
     "data": {
      "text/plain": [
       "['Сидоров', 'Иван', 'Петрович']"
      ]
     },
     "execution_count": 35,
     "metadata": {},
     "output_type": "execute_result"
    }
   ],
   "source": [
    "result = re.split(r' ', 'Сидоров Иван Петрович')\n",
    "result"
   ]
  },
  {
   "cell_type": "markdown",
   "metadata": {},
   "source": [
    "В примере мы разделили нашу строку по пробелам. Метод `split()` принимает также аргумент `maxsplit` со значением по умолчанию, равным 0. В данном случае он разделит строку столько раз, сколько возможно, но если указать этот аргумент, то разделение будет произведено не более указанного количества раз. Давайте посмотрим на примеры:"
   ]
  },
  {
   "cell_type": "code",
   "execution_count": 36,
   "metadata": {},
   "outputs": [
    {
     "data": {
      "text/plain": [
       "['Сидоров', 'Иван Петрович']"
      ]
     },
     "execution_count": 36,
     "metadata": {},
     "output_type": "execute_result"
    }
   ],
   "source": [
    "result = re.split(r' ', 'Сидоров Иван Петрович',maxsplit=1)\n",
    "result"
   ]
  },
  {
   "cell_type": "markdown",
   "metadata": {},
   "source": [
    "Мы установили параметр `maxsplit` равным 1, и в результате строка была разделена на две части вместо трех."
   ]
  },
  {
   "cell_type": "markdown",
   "metadata": {},
   "source": [
    "### re.compile(pattern):\n",
    "Компилирует объект регулярного выражения.для последующего использования."
   ]
  },
  {
   "cell_type": "code",
   "execution_count": 38,
   "metadata": {
    "scrolled": true
   },
   "outputs": [
    {
     "data": {
      "text/plain": [
       "['7', '867589065', '4', '5', '45']"
      ]
     },
     "execution_count": 38,
     "metadata": {},
     "output_type": "execute_result"
    }
   ],
   "source": [
    "text = 'hfjklhgadsfk_7fjhsdkl867589065,bhjk4\\n \\\n",
    "        5jfnkld45'\n",
    "digitRegex = re.compile(r'[0-9]+') # Не менее 1 цифры\n",
    "\n",
    "''' Сейчас мы их проверим...'''\n",
    "digitRegex.findall(text)"
   ]
  },
  {
   "cell_type": "markdown",
   "metadata": {},
   "source": [
    "### re.sub(pattern, repl, string):\n",
    "Этот метод ищет шаблон в строке и заменяет его на указанную подстроку. Если шаблон не найден, строка остается неизменной."
   ]
  },
  {
   "cell_type": "code",
   "execution_count": 39,
   "metadata": {},
   "outputs": [
    {
     "data": {
      "text/plain": [
       "'Сидоров Иван Петрович'"
      ]
     },
     "execution_count": 39,
     "metadata": {},
     "output_type": "execute_result"
    }
   ],
   "source": [
    "result = re.sub(r'[;,]', ' ', 'Сидоров;Иван,Петрович')\n",
    "result"
   ]
  },
  {
   "cell_type": "markdown",
   "metadata": {},
   "source": [
    "### Группирующие скобки для уточнения условия\n",
    "\n",
    "Нужно в тексте найти все однокоренные слова. Будем выполнять на данной скороговорке:\n",
    "\n",
    "Рыла свинья белорыла, тупорыла; полдвора рылом изрыла, вырыла, подрыла."
   ]
  },
  {
   "cell_type": "code",
   "execution_count": 56,
   "metadata": {},
   "outputs": [
    {
     "data": {
      "text/plain": [
       "'Рыла свинья белорыла, тупорыла; полдвора рылом изрыла, вырыла, подрыла.'"
      ]
     },
     "execution_count": 56,
     "metadata": {},
     "output_type": "execute_result"
    }
   ],
   "source": [
    "pig = \"Рыла свинья белорыла, тупорыла; полдвора рылом изрыла, вырыла, подрыла.\"\n",
    "pig"
   ]
  },
  {
   "cell_type": "markdown",
   "metadata": {},
   "source": [
    "Корень может быть как в начале слова, так и где-то в середине. Поэтому учтем это. Сначала у нас могут быть буквы `[а-яА-Я]` длиной от 0 до бесконечности `*`"
   ]
  },
  {
   "cell_type": "code",
   "execution_count": 57,
   "metadata": {},
   "outputs": [
    {
     "data": {
      "text/plain": [
       "['Рыла',\n",
       " '',\n",
       " 'свинья',\n",
       " '',\n",
       " 'белорыла',\n",
       " '',\n",
       " '',\n",
       " 'тупорыла',\n",
       " '',\n",
       " '',\n",
       " 'полдвора',\n",
       " '',\n",
       " 'рылом',\n",
       " '',\n",
       " 'изрыла',\n",
       " '',\n",
       " '',\n",
       " 'вырыла',\n",
       " '',\n",
       " '',\n",
       " 'подрыла',\n",
       " '',\n",
       " '']"
      ]
     },
     "execution_count": 57,
     "metadata": {},
     "output_type": "execute_result"
    }
   ],
   "source": [
    "re.findall(r'[а-яА-Я]*', \"Рыла свинья белорыла, тупорыла; полдвора рылом изрыла, вырыла, подрыла.\")"
   ]
  },
  {
   "cell_type": "markdown",
   "metadata": {},
   "source": [
    "Нам попались все слова и пробелы, так как `*`. Далее будем искать наш корень. Нам нужно точное совпадение с `рыл` или `Рыл` для случая с началом предложения `(?:рыл|Рыл)`. `|` говорит нам о выборе между `рыл` и `Рыл`, т.е. подойдет любой из них.\n",
    "\n",
    "Что делает `(?:)` ? Этот символ помогает нам вернуть последовательность полностью. Выше мы уже видели, что, то, что последовательность в скобках соответствует формату вывода. В этом случае `(?:)` это меняет: если последовательность символов подходит ВСЕМУ шаблону, то оно и будет возвращено функцией findall.\n",
    "\n",
    "Но если мы уберем ?:, то любая последовательность подходящая под внутренний паттерн скобок будет выведена. Сравните два примера ниже."
   ]
  },
  {
   "cell_type": "code",
   "execution_count": 58,
   "metadata": {},
   "outputs": [
    {
     "data": {
      "text/plain": [
       "['Рыл', 'белорыл', 'тупорыл', 'рыл', 'изрыл', 'вырыл', 'подрыл']"
      ]
     },
     "execution_count": 58,
     "metadata": {},
     "output_type": "execute_result"
    }
   ],
   "source": [
    "re.findall(r'[а-яА-Я]*(?:рыл|Рыл)', pig)"
   ]
  },
  {
   "cell_type": "code",
   "execution_count": 59,
   "metadata": {},
   "outputs": [
    {
     "data": {
      "text/plain": [
       "['Рыл', 'рыл', 'рыл', 'рыл', 'рыл', 'рыл', 'рыл']"
      ]
     },
     "execution_count": 59,
     "metadata": {},
     "output_type": "execute_result"
    }
   ],
   "source": [
    "re.findall(r'[а-яА-Я]*(рыл|Рыл)', pig)"
   ]
  },
  {
   "cell_type": "markdown",
   "metadata": {},
   "source": [
    "Есть начало слова и его корень. Осталось добавить окончание. Все аналогично началу слова:"
   ]
  },
  {
   "cell_type": "code",
   "execution_count": 60,
   "metadata": {},
   "outputs": [
    {
     "data": {
      "text/plain": [
       "['Рыла', 'белорыла', 'тупорыла', 'рылом', 'изрыла', 'вырыла', 'подрыла']"
      ]
     },
     "execution_count": 60,
     "metadata": {},
     "output_type": "execute_result"
    }
   ],
   "source": [
    "re.findall(r'[а-яА-Я]*(?:рыл|Рыл)[а-яА-Я]*', pig)"
   ]
  },
  {
   "cell_type": "markdown",
   "metadata": {},
   "source": [
    "### Заключение\n",
    "Сегодня мы познакомились с функциями из модуля `re`. Дополнительно про них можно почитать в официальной [документации](https://docs.python.org/3/library/re.html). Кроме того, есть очень хороший ресурс [regex101.com](https://regex101.com), который позволяет скопировать нужный текст и в интерактивном режиме следить, какие совпадения находятся при изменении регулярного выражения, введенного в отдельном окне (не забудьте поставить галочку Python в разделе FLAVOR слева).\n",
    "\n",
    "Хорошие статьи по регулярным выражениям:  \n",
    "[Раз](https://tproger.ru/articles/regexp-for-beginners/)  \n",
    "[Два](https://habr.com/ru/post/349860/)  "
   ]
  }
 ],
 "metadata": {
  "kernelspec": {
   "display_name": "Python 3",
   "language": "python",
   "name": "python3"
  },
  "language_info": {
   "codemirror_mode": {
    "name": "ipython",
    "version": 3
   },
   "file_extension": ".py",
   "mimetype": "text/x-python",
   "name": "python",
   "nbconvert_exporter": "python",
   "pygments_lexer": "ipython3",
   "version": "3.8.5"
  }
 },
 "nbformat": 4,
 "nbformat_minor": 4
}

{
 "cells": [
  {
   "cell_type": "markdown",
   "metadata": {},
   "source": [
    "# Python для исследователей\n",
    "\n",
    "Автор: *Татьяна Рогович, НИУ ВШЭ*\n",
    "\n",
    "## Работа с файлами в Python: чтение и запись текстовых файлов. "
   ]
  },
  {
   "cell_type": "markdown",
   "metadata": {},
   "source": [
    "## Файловый ввод-вывод\n",
    "Мы начинаем работать с файлами. Сейчас будем обсуждать только чтение и запись. О том, как запускать файлы на исполнение, отдельная история. Также для начала речь пойдёт о текстовых файлах или похожих на текстовые (например, код на Python или CSV-файл будет текстовым).\n",
    "\n",
    "Как правило, если указать в Python не полный путь к файлу, а только его название, то он будет искать файл в рабочей директории. Как узнать, где это?\n"
   ]
  },
  {
   "cell_type": "code",
   "execution_count": 2,
   "metadata": {},
   "outputs": [
    {
     "data": {
      "text/plain": [
       "'C:\\\\@Rogovich\\\\@PythonData\\\\2019_2020_HSE\\\\2020_DPO_PythonProg\\\\6_Sorting_Files'"
      ]
     },
     "execution_count": 2,
     "metadata": {},
     "output_type": "execute_result"
    }
   ],
   "source": [
    "import os\n",
    "os.getcwd()"
   ]
  },
  {
   "cell_type": "markdown",
   "metadata": {},
   "source": [
    "Функция `getcwd()` из модуля os возвращает нам путь к вашей рабочей папке. Так, например, в Windows по умолчанию Anaconda делает рабочей папкой для Jupyter папку пользователя в Users. если вы создали блокнот в какой-то другой папке - по умолчанию его директория и будет рабочей. Это можно изменить или глобально, прописав путь к вашей папке в свойствах, или локально в рамках сессии.\n",
    "\n",
    "Функция `chdir()` принимает в качестве аргумента путь к папке и меняет рабочую директорию. Теперь к файлам, хранящимся в ней вы сможете обращаться без полного пути. Также все новые файлы будут сохраняться туда же."
   ]
  },
  {
   "cell_type": "code",
   "execution_count": 3,
   "metadata": {},
   "outputs": [
    {
     "data": {
      "text/plain": [
       "'C:\\\\@Rogovich\\\\@PythonData\\\\2019_2020_HSE\\\\2020_DPO_PythonProg\\\\6_Sorting_Files'"
      ]
     },
     "execution_count": 3,
     "metadata": {},
     "output_type": "execute_result"
    }
   ],
   "source": [
    "os.chdir('C:\\\\@Rogovich\\\\@PythonData\\\\2019_2020_HSE\\\\2020_DPO_PythonProg\\\\6_Sorting_Files')\n",
    "os.getcwd()"
   ]
  },
  {
   "cell_type": "markdown",
   "metadata": {},
   "source": [
    "`.listdir()` вернет нам список содержимого директории. Очень полезная функция - можно запустить цикл, если нужно обработать все файлы в папке."
   ]
  },
  {
   "cell_type": "code",
   "execution_count": 4,
   "metadata": {},
   "outputs": [
    {
     "data": {
      "text/plain": [
       "['.ipynb_checkpoints',\n",
       " '2020_DPO_6_1_O_notation_sorting.ipynb',\n",
       " '2020_DPO_6_2_Files.ipynb',\n",
       " '2020_DPO_6_3_Html_Intro.ipynb',\n",
       " '2020_DPO_6_4_BS_Tables.ipynb',\n",
       " 'html1.png',\n",
       " 'html2.png',\n",
       " 'html3.png',\n",
       " 'html4.png',\n",
       " 'html5.png',\n",
       " 'mbox.txt',\n",
       " 'nuclear.csv',\n",
       " 'simple_table.html',\n",
       " 'table.csv',\n",
       " 'test.txt']"
      ]
     },
     "execution_count": 4,
     "metadata": {},
     "output_type": "execute_result"
    }
   ],
   "source": [
    "os.listdir()"
   ]
  },
  {
   "cell_type": "markdown",
   "metadata": {},
   "source": [
    "Давайте попробуем создать файл, записать в него что-нибудь и сохранить."
   ]
  },
  {
   "cell_type": "code",
   "execution_count": 13,
   "metadata": {},
   "outputs": [],
   "source": [
    "f = open(\"test.txt\", 'w', encoding='utf8')"
   ]
  },
  {
   "cell_type": "markdown",
   "metadata": {},
   "source": [
    "Функция `open()` возвращает файловый объект и мы используем ее обычно с двумя аргументами - имя файла и режим (например, запись или чтение). Выше мы открыли файл `test.txt` в режиме записи 'w' (если такого файла не существовало, он будет создан).\n",
    "\n",
    "Такой объект называется file handle или дескриптор файла.\n",
    "\n",
    "![](https://www.py4e.com/images/handle.svg)  \n",
    "Source: https://www.py4e.com/html3/07-files\n",
    "\n",
    "Какие могут быть режимы открытия файла (mode):\n",
    "\n",
    "* 'r' - read, только чтение\n",
    "* 'w' - write, только запись (если файл с таким именем существовал, он будет удален).\n",
    "* 'a' - append, новые данные будут записаны в конец файла\n",
    "* 'r+' - чтение+запись.\n",
    "\n",
    "Если не передать второй аргумент, то файл автоматически откроется в режиме чтения.\n",
    "\n",
    "Encoding - именнованный параметр, если работаете с кириллицей или языками со спецсимволами, то лучше задать utf8."
   ]
  },
  {
   "cell_type": "code",
   "execution_count": 14,
   "metadata": {},
   "outputs": [],
   "source": [
    "f.write('Hello, world!')\n",
    "f.close()"
   ]
  },
  {
   "cell_type": "markdown",
   "metadata": {},
   "source": [
    "Метод write записал данные в наш файл. После этого файл нужно закрыть, чтобы он выгрузился из оперативной памяти. Если этого не сделать, то в какой-то момент питоновский сборщик мусора все равно до него доберется и закроет файл, но большие файлы могут съедать достаточно много ресурсов, поэтому лучше за этим следить.\n",
    "\n",
    "Теперь дававайте попробуем открыть в режиме чтения."
   ]
  },
  {
   "cell_type": "code",
   "execution_count": 15,
   "metadata": {},
   "outputs": [
    {
     "name": "stdout",
     "output_type": "stream",
     "text": [
      "Hello, world!\n"
     ]
    }
   ],
   "source": [
    "f = open(\"test.txt\", 'r', encoding='utf8')\n",
    "print(f.read())\n",
    "f.close()"
   ]
  },
  {
   "cell_type": "markdown",
   "metadata": {},
   "source": [
    "После того, как мы закрыли файл, обратиться к нему больше нельзя."
   ]
  },
  {
   "cell_type": "code",
   "execution_count": 16,
   "metadata": {},
   "outputs": [
    {
     "ename": "ValueError",
     "evalue": "I/O operation on closed file.",
     "output_type": "error",
     "traceback": [
      "\u001b[1;31m---------------------------------------------------------------------------\u001b[0m",
      "\u001b[1;31mValueError\u001b[0m                                Traceback (most recent call last)",
      "\u001b[1;32m<ipython-input-16-571e9fb02258>\u001b[0m in \u001b[0;36m<module>\u001b[1;34m()\u001b[0m\n\u001b[1;32m----> 1\u001b[1;33m \u001b[0mf\u001b[0m\u001b[1;33m.\u001b[0m\u001b[0mread\u001b[0m\u001b[1;33m(\u001b[0m\u001b[1;33m)\u001b[0m\u001b[1;33m\u001b[0m\u001b[0m\n\u001b[0m",
      "\u001b[1;31mValueError\u001b[0m: I/O operation on closed file."
     ]
    }
   ],
   "source": [
    "f.read()"
   ]
  },
  {
   "cell_type": "markdown",
   "metadata": {},
   "source": [
    "Хорошим тоном при работе с файлами считается открывать их с помощью ключевого слова with. Преимущество этого способа в том, что файл закроется автоматически, когда закончатся вложенные операции."
   ]
  },
  {
   "cell_type": "code",
   "execution_count": 17,
   "metadata": {},
   "outputs": [],
   "source": [
    "with open('test.txt') as f: # открыли файл, не указали режим, по умолчанию - чтение\n",
    "    read_data = f.read() # считали данные из файла в переменную\n",
    "# операции закончились, файл сам закрылся"
   ]
  },
  {
   "cell_type": "code",
   "execution_count": 18,
   "metadata": {},
   "outputs": [
    {
     "name": "stdout",
     "output_type": "stream",
     "text": [
      "Hello, world!\n"
     ]
    }
   ],
   "source": [
    "print(read_data)"
   ]
  },
  {
   "cell_type": "markdown",
   "metadata": {},
   "source": [
    "А теперь попробуем записать в файл новые строки."
   ]
  },
  {
   "cell_type": "code",
   "execution_count": 20,
   "metadata": {},
   "outputs": [],
   "source": [
    "with open('test.txt', 'a') as f: # открыли файл\n",
    "    f.write('\\n Is this an african swallow?\\n Or an european swallow?') # дозаписали строки в файл"
   ]
  },
  {
   "cell_type": "markdown",
   "metadata": {},
   "source": [
    "Еще один вариант записать данные в файл вот так:"
   ]
  },
  {
   "cell_type": "code",
   "execution_count": 21,
   "metadata": {},
   "outputs": [],
   "source": [
    "with open('test.txt', 'a') as f:\n",
    "    print(\"\\nAnd another string\", file = f)"
   ]
  },
  {
   "cell_type": "code",
   "execution_count": 22,
   "metadata": {},
   "outputs": [
    {
     "name": "stdout",
     "output_type": "stream",
     "text": [
      "Hello, world!\n",
      " Is this an african swallow?\n",
      " Or an european swallow?\n",
      " Is this an african swallow?\n",
      " Or an european swallow?\n",
      "And another string\n",
      "\n"
     ]
    }
   ],
   "source": [
    "with open('test.txt') as f: \n",
    "    print(f.read())"
   ]
  },
  {
   "cell_type": "markdown",
   "metadata": {},
   "source": [
    "Мы выше уже видели два метода файла `.write()` и `.read()`. Еще один метод, который очень часто используется - это readline. Он позволяет не загружать файл целиком в память, а считывать его построчно. Знаком остановки здесь будет выступать `\\n`"
   ]
  },
  {
   "cell_type": "code",
   "execution_count": 23,
   "metadata": {},
   "outputs": [
    {
     "data": {
      "text/plain": [
       "'Hello, world!\\n'"
      ]
     },
     "execution_count": 23,
     "metadata": {},
     "output_type": "execute_result"
    }
   ],
   "source": [
    "f = open('test.txt', 'r')\n",
    "f.readline()"
   ]
  },
  {
   "cell_type": "code",
   "execution_count": 24,
   "metadata": {},
   "outputs": [
    {
     "data": {
      "text/plain": [
       "' Is this an african swallow?\\n'"
      ]
     },
     "execution_count": 24,
     "metadata": {},
     "output_type": "execute_result"
    }
   ],
   "source": [
    "f.readline()"
   ]
  },
  {
   "cell_type": "markdown",
   "metadata": {},
   "source": [
    "`.readline()` - генератор. При обращении он выдает нам новую строку. "
   ]
  },
  {
   "cell_type": "code",
   "execution_count": 25,
   "metadata": {},
   "outputs": [
    {
     "data": {
      "text/plain": [
       "' Or an european swallow?\\n'"
      ]
     },
     "execution_count": 25,
     "metadata": {},
     "output_type": "execute_result"
    }
   ],
   "source": [
    "f.readline() # вызвали третий раз"
   ]
  },
  {
   "cell_type": "code",
   "execution_count": 26,
   "metadata": {},
   "outputs": [],
   "source": [
    "f.close()"
   ]
  },
  {
   "cell_type": "markdown",
   "metadata": {},
   "source": [
    "Также, чтобы прочитать все строки поочередно, можно запустить цикл. Тут не стоит забывать, что переменная f, хоть и прикидывается списком строк, когда мы её итерируем, на самом деле таковым не является. В действительности при открытии файла мы запоминаем позицию, на которой мы этот файл читаем. Изначально она указывает на самое начало файла, но с каждой итерацией сдвигается. Когда мы прочитаем файл целиком, дальнейшие попытки из него что-то прочитать ни к чему не приведут: указатель текущей позиции сдвинулся до самого конца и файл закончился."
   ]
  },
  {
   "cell_type": "code",
   "execution_count": 27,
   "metadata": {},
   "outputs": [
    {
     "name": "stdout",
     "output_type": "stream",
     "text": [
      "Hello, world!\n",
      " Is this an african swallow?\n",
      " Or an european swallow?\n",
      " Is this an african swallow?\n",
      " Or an european swallow?\n",
      "And another string\n"
     ]
    }
   ],
   "source": [
    "f = open('test.txt', 'r')\n",
    "\n",
    "for line in f:\n",
    "    print(line, end='')\n",
    "    \n",
    "for line in f: # обратите внимание, что этот цикл не выполняется\n",
    "    print(line, end='')\n",
    "    \n",
    "f.close()"
   ]
  },
  {
   "cell_type": "markdown",
   "metadata": {},
   "source": [
    "Файл можно перемотать на начало, если воспользоваться методом .seek(), который возвращается к символу на этой позиции."
   ]
  },
  {
   "cell_type": "code",
   "execution_count": 28,
   "metadata": {},
   "outputs": [
    {
     "name": "stdout",
     "output_type": "stream",
     "text": [
      "Hello, world!\n",
      " Is this an african swallow?\n",
      " Or an european swallow?\n",
      " Is this an african swallow?\n",
      " Or an european swallow?\n",
      "And another string\n",
      "Hello, world!\n",
      " Is this an african swallow?\n",
      " Or an european swallow?\n",
      " Is this an african swallow?\n",
      " Or an european swallow?\n",
      "And another string\n"
     ]
    }
   ],
   "source": [
    "f = open('test.txt', 'r')\n",
    "\n",
    "for line in f:\n",
    "    print(line, end='')\n",
    "\n",
    "f.seek(0) # вернули файл на начало    \n",
    "    \n",
    "for line in f: # теперь печатает!\n",
    "    print(line, end='')\n",
    "    \n",
    "f.close()"
   ]
  },
  {
   "cell_type": "markdown",
   "metadata": {},
   "source": [
    "Если методу `read()` передать целое число, то питон прочитает только заданное количество символов или битов, если информация в файле записана в бинарном формате."
   ]
  },
  {
   "cell_type": "code",
   "execution_count": 58,
   "metadata": {},
   "outputs": [
    {
     "name": "stdout",
     "output_type": "stream",
     "text": [
      "Hello,\n"
     ]
    }
   ],
   "source": [
    "with open('test.txt') as f: \n",
    "    print(f.read(6))"
   ]
  },
  {
   "cell_type": "markdown",
   "metadata": {},
   "source": [
    "Чтобы считать все строки файла в список, можно вызвать список от файлового объекта или использовать метод .readlines()."
   ]
  },
  {
   "cell_type": "code",
   "execution_count": 59,
   "metadata": {},
   "outputs": [
    {
     "name": "stdout",
     "output_type": "stream",
     "text": [
      "['Hello, world!\\n', ' Is this an african swallow?\\n', ' Or an european swallow?\\n', 'And another string\\n']\n"
     ]
    }
   ],
   "source": [
    "f = open('test.txt', 'r')\n",
    "print(list(f))\n",
    "f.close()"
   ]
  },
  {
   "cell_type": "code",
   "execution_count": 60,
   "metadata": {},
   "outputs": [
    {
     "name": "stdout",
     "output_type": "stream",
     "text": [
      "['Hello, world!\\n', ' Is this an african swallow?\\n', ' Or an european swallow?\\n', 'And another string\\n']\n"
     ]
    }
   ],
   "source": [
    "f = open('test.txt', 'r')\n",
    "print(f.readlines())\n",
    "f.close()"
   ]
  }
 ],
 "metadata": {
  "kernelspec": {
   "display_name": "Python 3",
   "language": "python",
   "name": "python3"
  },
  "language_info": {
   "codemirror_mode": {
    "name": "ipython",
    "version": 3
   },
   "file_extension": ".py",
   "mimetype": "text/x-python",
   "name": "python",
   "nbconvert_exporter": "python",
   "pygments_lexer": "ipython3",
   "version": "3.8.5"
  }
 },
 "nbformat": 4,
 "nbformat_minor": 2
}
